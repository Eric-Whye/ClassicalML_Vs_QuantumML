{
 "cells": [
  {
   "cell_type": "code",
   "execution_count": null,
   "id": "c76576c0-c0a1-422c-9656-47b65988ec12",
   "metadata": {},
   "outputs": [],
   "source": [
    "import pennylane as qml\n",
    "from pennylane import numpy as np"
   ]
  },
  {
   "cell_type": "code",
   "execution_count": null,
   "id": "b5f6a026-7320-4f33-8bd5-ad7cd664207d",
   "metadata": {},
   "outputs": [],
   "source": [
    "your_channel=\"your channel\"\n",
    "your_token=\"your token\""
   ]
  },
  {
   "cell_type": "code",
   "execution_count": null,
   "id": "2c7f105f-523b-4e0e-a463-f3c3cedbcf97",
   "metadata": {},
   "outputs": [],
   "source": [
    "from qiskit_ibm_runtime import QiskitRuntimeService\n",
    "\n",
    "QiskitRuntimeService.save_account(\n",
    "    channel=your_channel, \n",
    "    token=your_token,\n",
    "    overwrite=True)"
   ]
  },
  {
   "cell_type": "code",
   "execution_count": null,
   "id": "85734553-9206-4687-9ad9-cba12452dd84",
   "metadata": {},
   "outputs": [],
   "source": [
    "from qiskit_ibm_runtime.fake_provider import FakeManilaV2\n",
    "backend_fake = FakeManilaV2()\n",
    "\n",
    "service = QiskitRuntimeService()\n",
    "backend_ibm = service.least_busy(operational=True, simulator=False, min_num_qubits=5)"
   ]
  },
  {
   "cell_type": "code",
   "execution_count": null,
   "id": "a62793aa-8ddf-439f-8226-ba50a5ec2761",
   "metadata": {},
   "outputs": [],
   "source": [
    "try:\n",
    "    NUM_QUBITS_SUPPORTED = 5\n",
    "    dev = qml.device(\"qiskit.remote\", wires=NUM_QUBITS_SUPPORTED, backend=backend_ibm)\n",
    "    #dev = qml.device(\"qiskit.remote\", wires=NUM_QUBITS_SUPPORTED, backend=backend_fake)\n",
    "except Exception as e:\n",
    "    print(e)"
   ]
  },
  {
   "cell_type": "code",
   "execution_count": null,
   "id": "a2dc86d2-616a-4ef8-aa5f-330f69146978",
   "metadata": {},
   "outputs": [],
   "source": [
    "@qml.qnode(dev)\n",
    "def circuit():\n",
    "    qml.Hadamard(wires=0)\n",
    "    qml.CNOT(wires=[0, 1])\n",
    "    return qml.probs(wires=[0, 1])"
   ]
  },
  {
   "cell_type": "code",
   "execution_count": null,
   "id": "30958321-cb59-4c82-9827-ce3c80054a58",
   "metadata": {},
   "outputs": [],
   "source": [
    "print(circuit())"
   ]
  }
 ],
 "metadata": {
  "kernelspec": {
   "display_name": "Python 3 (ipykernel)",
   "language": "python",
   "name": "python3"
  },
  "language_info": {
   "codemirror_mode": {
    "name": "ipython",
    "version": 3
   },
   "file_extension": ".py",
   "mimetype": "text/x-python",
   "name": "python",
   "nbconvert_exporter": "python",
   "pygments_lexer": "ipython3",
   "version": "3.11.11"
  }
 },
 "nbformat": 4,
 "nbformat_minor": 5
}
