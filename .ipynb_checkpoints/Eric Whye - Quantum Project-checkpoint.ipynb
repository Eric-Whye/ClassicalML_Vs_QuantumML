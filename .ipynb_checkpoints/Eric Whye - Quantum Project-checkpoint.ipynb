{
 "cells": [
  {
   "cell_type": "code",
   "execution_count": null,
   "id": "55e1c685-f835-472f-8b81-79011634370c",
   "metadata": {
    "slideshow": {
     "slide_type": "skip"
    },
    "tags": []
   },
   "outputs": [],
   "source": [
    "import pandas as pd\n",
    "import numpy as np\n",
    "\n",
    "import seaborn as sns\n",
    "import matplotlib.pyplot as plt\n",
    "%matplotlib inline"
   ]
  },
  {
   "cell_type": "markdown",
   "id": "1cfa7c34-40a9-4143-88f5-375572f72395",
   "metadata": {
    "slideshow": {
     "slide_type": "slide"
    }
   },
   "source": [
    "# Data Preparation\n",
    "\n",
    "Heart Failure Prediction Dataset from Kaggle\n",
    "\n",
    "https://www.kaggle.com/datasets/fedesoriano/heart-failure-prediction\n",
    "\n",
    "One thing to not is that the Kaggle dataset specifies the Cholesterol unit of measurement as mm/dl, which doesn't exist. The assumption is that it is a measurement of the triglycerides in mg/dl"
   ]
  },
  {
   "cell_type": "code",
   "execution_count": null,
   "id": "8104f264-3c30-4ac9-8b46-baf8745501bb",
   "metadata": {
    "slideshow": {
     "slide_type": "slide"
    },
    "tags": []
   },
   "outputs": [],
   "source": [
    "df = pd.read_csv(\"heart.csv\")\n",
    "col = df.pop(\"HeartDisease\")\n",
    "df.insert(0, col.name, col)#Put class label in front\n",
    "dataset = df.copy()\n",
    "dataset"
   ]
  },
  {
   "cell_type": "markdown",
   "id": "1f45bb01-3dff-4be4-b0e4-4940e0ef3083",
   "metadata": {
    "slideshow": {
     "slide_type": "slide"
    }
   },
   "source": [
    "## Exploratory Data Analysis"
   ]
  },
  {
   "cell_type": "code",
   "execution_count": null,
   "id": "7fc62abd-6ee9-4db2-8f6c-e79e0227ed41",
   "metadata": {
    "slideshow": {
     "slide_type": "subslide"
    },
    "tags": []
   },
   "outputs": [],
   "source": [
    "#Preliminary look at data\n",
    "\n",
    "#!pip install ydata-profiling\n",
    "#!pip install summarytools\n",
    "from summarytools import dfSummary\n",
    "from ydata_profiling import ProfileReport, compare\n",
    "\n",
    "report = ProfileReport(df=dataset, title=\"Heart disease data profile\")\n",
    "report.to_file(\"profile_report.html\")\n",
    "dfSummary(dataset)"
   ]
  },
  {
   "cell_type": "code",
   "execution_count": null,
   "id": "babda88d",
   "metadata": {
    "slideshow": {
     "slide_type": "slide"
    }
   },
   "outputs": [],
   "source": [
    "plt.figure(figsize=(15, 10))\n",
    "\n",
    "\n",
    "numerical_features = [\"Age\", \"RestingBP\", \"Cholesterol\", \"MaxHR\", \"Oldpeak\"]\n",
    "\n",
    "for i, col in enumerate(numerical_features, 1):\n",
    "    plt.subplot(2, 3, i)\n",
    "    sns.histplot(dataset[col], kde=True, bins=50)\n",
    "    plt.title(\"Distribution of {}\".format(col))\n",
    "\n",
    "plt.show()"
   ]
  },
  {
   "cell_type": "markdown",
   "id": "d008ea68-0870-46a4-8e1a-e6ae64b754dc",
   "metadata": {
    "jp-MarkdownHeadingCollapsed": true,
    "slideshow": {
     "slide_type": "subslide"
    }
   },
   "source": [
    "### Description Of Data\n",
    "\n",
    "<ol>\n",
    "    <li>\"Heart Disease\": Class Label</li>\n",
    "    <li>\"Age\": Only whole numbers so can be discretised into age groups. Would be useful to bin according to susceptible age groups for heart disease</li>\n",
    "    <li>\"Sex\": Should be transformed into binary values</li>\n",
    "    <li>\"ChestPainType\" (4 Ordinal Values):\n",
    "        <ol>\n",
    "            <li>(TA): Typical Angina (Most Characteristic of Heart Disease)</li>\n",
    "            <li>(ATA): Atypical Angina</li>\n",
    "            <li>(NAP): Non-Anginal Chest Pain</li>\n",
    "            <li>(ASY): Asymptomatic (Least Characteristic of Heart Disease)</li>\n",
    "        </ol>\n",
    "    </li>\n",
    "    <li>\"RestingBP\": Blood Pressure measure at rest. No Discretisation necessary for Random Forest</li>\n",
    "    <li>\"Cholestrol\": No Discretisation necessary for Random Forest</li>\n",
    "    <li>\"FastingBS\": Fasting Blood Sugar. Binary values</li>\n",
    "    <li>\"RestingECG\": Resting electrocardiogram (3 (arguably nominal) values):\n",
    "        <ol>\n",
    "            <li>(Normal): Typical Angina (Most Characteristic of Heart Disease)</li>\n",
    "            <li>(ST): ST-T wave abnomality</li>\n",
    "            <li>(LVH): Left Ventricular Hypertrophy</li>\n",
    "        </ol> There is not a strict progression of severity\n",
    "    </li>\n",
    "    <li>\"MaxHR\": Maximum Heart Rate achieved (during exercise). Numeric value between 60 and 202</li>\n",
    "    <li>\"ExerciseAngina\": Exercise-induced Angina. Binary Values</li>\n",
    "    <li>\"OldPeak\": ST depression in the ST segment of an ECG. My interpretation of this attribute is that the range is: $0 \\leq$ Oldpeak. As Oldpeak referes to ST <i>depression</i> and not elevation. Negative values can be considered measurement error or human recording error</li>\n",
    "    <li>\"ST_Slope\": Slope of the peak exercise ST segment (3 Ordinal Values):\n",
    "        <ol>\n",
    "            <li>(Up): Upsloping</li>\n",
    "            <li>(Flat)</li>\n",
    "            <li>(Down): Downsloping</li>\n",
    "        </ol>\n",
    "    </li>\n",
    "</ol>"
   ]
  },
  {
   "cell_type": "markdown",
   "id": "ab54abfd-b753-46d2-b7f5-6d79b4351c94",
   "metadata": {
    "jp-MarkdownHeadingCollapsed": true,
    "slideshow": {
     "slide_type": "slide"
    }
   },
   "source": [
    "### Check Data Types"
   ]
  },
  {
   "cell_type": "code",
   "execution_count": null,
   "id": "5438acc3-6b2c-4c4c-a672-7c92026f18b1",
   "metadata": {
    "slideshow": {
     "slide_type": "subslide"
    }
   },
   "outputs": [],
   "source": [
    "dataset.dtypes"
   ]
  },
  {
   "cell_type": "markdown",
   "id": "46cc008c-f06a-4058-be82-1624fb7d66b3",
   "metadata": {
    "jp-MarkdownHeadingCollapsed": true,
    "slideshow": {
     "slide_type": "slide"
    }
   },
   "source": [
    "### Check For Missing Values, Duplicated Values"
   ]
  },
  {
   "cell_type": "code",
   "execution_count": null,
   "id": "c020e9d6-9d41-4c87-a688-6a98d4ce940a",
   "metadata": {
    "slideshow": {
     "slide_type": "subslide"
    },
    "tags": []
   },
   "outputs": [],
   "source": [
    "dataset.isnull().sum()"
   ]
  },
  {
   "cell_type": "code",
   "execution_count": null,
   "id": "823d3457-5ba0-45c1-a16a-36d67c748212",
   "metadata": {
    "slideshow": {
     "slide_type": "subslide"
    }
   },
   "outputs": [],
   "source": [
    "print(dataset.duplicated().sum())"
   ]
  },
  {
   "cell_type": "markdown",
   "id": "fa889488",
   "metadata": {
    "slideshow": {
     "slide_type": "slide"
    }
   },
   "source": [
    "### Encoding of Categorical Variables\n",
    "\n",
    "Encoding must be done before imputation so this is done early on"
   ]
  },
  {
   "cell_type": "code",
   "execution_count": null,
   "id": "87a40e00",
   "metadata": {
    "slideshow": {
     "slide_type": "subslide"
    }
   },
   "outputs": [],
   "source": [
    "from sklearn.preprocessing import OrdinalEncoder\n",
    "\n",
    "#Dummy Encoding for attributes with binary categories\n",
    "dataset = pd.get_dummies(dataset, columns=[\"Sex\", \"ExerciseAngina\"], drop_first=True, dtype=int)\n",
    "\n",
    "\n",
    "#One-hot Encoding for attributes with 3 or more categories\n",
    "dataset = pd.get_dummies(dataset, columns=[\"RestingECG\"], drop_first=False, dtype=int)\n",
    "\n",
    "\n",
    "#Ordinal Encoding for ordinal attributes\n",
    "categories = [\n",
    "    [\"Down\", \"Flat\", \"Up\"],#ST_Slope\n",
    "    [\"ASY\", \"NAP\", \"ATA\", \"TA\"]#ChestPainType\n",
    "]\n",
    "\n",
    "encoder = OrdinalEncoder(categories=categories)\n",
    "dataset[[\"ST_Slope\", \"ChestPainType\"]] = encoder.fit_transform(dataset[[\"ST_Slope\", \"ChestPainType\"]])\n",
    "\n",
    "\n",
    "dataset"
   ]
  },
  {
   "cell_type": "markdown",
   "id": "ea7924fe-8430-4d50-8dc0-787388ace1a3",
   "metadata": {
    "jp-MarkdownHeadingCollapsed": true,
    "slideshow": {
     "slide_type": "slide"
    }
   },
   "source": [
    "### Check for Unrealistic values"
   ]
  },
  {
   "cell_type": "markdown",
   "id": "2aa86ea0-a868-4f60-be0f-b6db228a07cb",
   "metadata": {
    "slideshow": {
     "slide_type": "notes"
    }
   },
   "source": [
    "RestingBP and Cholestrol have values of 0 which humans can't have\n",
    "\n",
    "Oldpeak also seems to have an unrealistic number of values at 0 and it also has negative values. Small negative values can be interpreted as measurement error and be set 0"
   ]
  },
  {
   "cell_type": "code",
   "execution_count": null,
   "id": "a983eb9d-e276-49ae-971d-5d728778eb16",
   "metadata": {
    "slideshow": {
     "slide_type": "subslide"
    }
   },
   "outputs": [],
   "source": [
    "display(dataset.describe().T)"
   ]
  },
  {
   "cell_type": "markdown",
   "id": "2cb1b3b1",
   "metadata": {
    "slideshow": {
     "slide_type": "slide"
    }
   },
   "source": [
    "#### Imputation\n",
    "\n",
    "Unrealistic Values for Cholesterol and RestingBP turned into np.nan so variance before and after imputation can be calculated\n",
    "\n",
    "Experimented with different imputation techniques to find one that left the variance relatively the same after imputation\n",
    "\n",
    "I tested three:\n",
    "\n",
    "<ul>\n",
    "    <li>Linear Regression Imputation</li>\n",
    "    <li>KNN Imputation</li>\n",
    "    <li>Stochastic Quantile Imputation</li>\n",
    "</ul>\n",
    "\n",
    "Linear Regression Imputation imputed values heavily around the mean\n",
    "\n",
    "KNN Imputation seemed to have a similar effect in terms of variance after imputation\n",
    "\n",
    "Stochastic Quantile Imputation had the least variance but doesn't seem to be a very popular method as it is a heuristic approach and may well be degrading the dataset instead."
   ]
  },
  {
   "cell_type": "code",
   "execution_count": null,
   "id": "bf8fd0e7-b12f-4093-ae00-12deeb198356",
   "metadata": {
    "slideshow": {
     "slide_type": "subslide"
    }
   },
   "outputs": [],
   "source": [
    "#Turn 0 values into missing values\n",
    "dataset.loc[dataset[\"Cholesterol\"] == 0, \"Cholesterol\"] = np.nan\n",
    "dataset.loc[dataset[\"RestingBP\"] == 0, \"RestingBP\"] = np.nan\n",
    "\n",
    "display(dataset.isnull().sum())\n",
    "\n",
    "print(\"Number of Oldpeak Values < 0: {}\".format((dataset[\"Oldpeak\"] < 0).sum()))"
   ]
  },
  {
   "cell_type": "code",
   "execution_count": null,
   "id": "5b5d808c-9d3e-45f6-a7a7-5aada6467da1",
   "metadata": {
    "slideshow": {
     "slide_type": "subslide"
    }
   },
   "outputs": [],
   "source": [
    "from sklearn.linear_model import LinearRegression\n",
    "regression_imputed_dataset = dataset.copy()\n",
    "\n",
    "\n",
    "#To check for variance before, during and after imputation\n",
    "print(\"Linear Regression Imputation\")\n",
    "print(\"Before Imputation:\")\n",
    "print(\"Cholesterol Variance: {:.2f} \\t\\t Cholesterol Mean: {:.2f}\".format(dataset[\"Cholesterol\"].var(), dataset[\"Cholesterol\"].mean()))\n",
    "print(\"RestingBP Variance: {:.2f} \\t\\t Cholesterol Mean: {:.2f}\".format(dataset[\"RestingBP\"].var(), dataset[\"RestingBP\"].mean()))\n",
    "\n",
    "\n",
    "#Cholestrol Imputation\n",
    "\n",
    "#Need a copy of dataset to replace missing values of RestingBP with median to allow training of regression model\n",
    "temp_dataset = dataset.copy()\n",
    "temp_dataset.loc[temp_dataset[\"RestingBP\"].isna(), \"RestingBP\"] = temp_dataset[\"RestingBP\"].median()\n",
    "temp_dataset[temp_dataset[\"Cholesterol\"].isna()]\n",
    "\n",
    "X = temp_dataset.dropna(subset=[\"Cholesterol\"]).drop(columns=[\"Cholesterol\"])#X are rows where Cholesterol isn't np.nan and without target feature (Cholesterol)\n",
    "y = temp_dataset.dropna(subset=[\"Cholesterol\"])[\"Cholesterol\"]#y are rows where Cholesterol isn't np.nan but with target feature\n",
    "\n",
    "model = LinearRegression().fit(X, y)\n",
    "\n",
    "#Predict values for Cholesterol == np.nan based on all its ajdacent columns\n",
    "predicted_values = model.predict(temp_dataset[dataset[\"Cholesterol\"].isna()].drop(columns=[\"Cholesterol\"]))\n",
    "regression_imputed_dataset.loc[dataset[\"Cholesterol\"].isna(), \"Cholesterol\"] = predicted_values.astype(int)\n",
    "\n",
    "\n",
    "print(\"\\n\\nAfter Imputation:\")\n",
    "print(\"Imputed Cholesterol Variance: {:.2f} \\t Imputed Cholesterol Mean: {:.2f}\".format(predicted_values.var(), predicted_values.mean()))\n",
    "\n",
    "# RestingBP Imputation\n",
    "X = regression_imputed_dataset.dropna(subset=[\"RestingBP\"]).drop(columns=[\"RestingBP\"])#X are rows where restingBP isn't np.nan and without target feature (RestingBP)\n",
    "y = regression_imputed_dataset.dropna(subset=[\"RestingBP\"])[\"RestingBP\"]#y are rows where RestingBP isn't np.nan but with target feature\n",
    "\n",
    "model = LinearRegression().fit(X, y)\n",
    "\n",
    "#Predict values for RestinBP == np.nan based on all its ajdacent columns\n",
    "predicted_values = model.predict(regression_imputed_dataset[regression_imputed_dataset[\"RestingBP\"].isna()].drop(columns=[\"RestingBP\"]))\n",
    "regression_imputed_dataset.loc[dataset[\"RestingBP\"].isna(), \"RestingBP\"] = predicted_values.astype(int)\n",
    "\n",
    "print(\"Imputed RestingBP Variance: {:.2f} \\t Imputed RestingBP Mean: {:.2f}\".format(predicted_values.var(), predicted_values.mean()))\n",
    "print()\n",
    "print(\"Cholesterol Variance: {:.2f} \\t\\t Cholesterol Mean: {:.2f}\".format(regression_imputed_dataset[\"Cholesterol\"].var(), regression_imputed_dataset[\"Cholesterol\"].mean()))\n",
    "print(\"RestingBP Variance: {:.2f} \\t\\t Cholesterol Mean: {:.2f}\".format(regression_imputed_dataset[\"RestingBP\"].var(), regression_imputed_dataset[\"RestingBP\"].mean()))\n"
   ]
  },
  {
   "cell_type": "code",
   "execution_count": null,
   "id": "c14caa8b",
   "metadata": {},
   "outputs": [],
   "source": [
    "from sklearn.impute import KNNImputer\n",
    "knn_imputed_dataset = dataset.copy()\n",
    "\n",
    "print(\"KNN Imputation\")\n",
    "print(\"Before Imputation:\")\n",
    "print(\"Cholesterol Variance: {:.2f} \\t\\t Cholesterol Mean: {:.2f}\".format(dataset[\"Cholesterol\"].var(), dataset[\"Cholesterol\"].mean()))\n",
    "print(\"RestingBP Variance: {:.2f} \\t\\t Cholesterol Mean: {:.2f}\".format(dataset[\"RestingBP\"].var(), dataset[\"RestingBP\"].mean()))\n",
    "\n",
    "#Cholesterol Imputation\n",
    "knn_imputer = KNNImputer(n_neighbors=5)\n",
    "knn_imputed_dataset[\"Cholesterol\"] = knn_imputer.fit_transform(dataset[[\"Cholesterol\"]])\n",
    "\n",
    "\n",
    "#Resting BP Imputation\n",
    "knn_imputer = KNNImputer(n_neighbors=5)\n",
    "knn_imputed_dataset[\"RestingBP\"] = knn_imputer.fit_transform(dataset[[\"RestingBP\"]])\n",
    "\n",
    "print(\"\\n\\nAfter Imputation:\")\n",
    "print(\"Cholesterol Variance: {:.2f} \\t\\t Cholesterol Mean: {:.2f}\".format(knn_imputed_dataset[\"Cholesterol\"].var(), knn_imputed_dataset[\"Cholesterol\"].mean()))\n",
    "print(\"RestingBP Variance: {:.2f} \\t\\t Cholesterol Mean: {:.2f}\".format(knn_imputed_dataset[\"RestingBP\"].var(), knn_imputed_dataset[\"RestingBP\"].mean()))"
   ]
  },
  {
   "cell_type": "code",
   "execution_count": null,
   "id": "3c6fe824",
   "metadata": {},
   "outputs": [],
   "source": [
    "quantile_imputed_dataset = dataset.copy()\n",
    "\n",
    "print(\"Quantile Sampling Imputation\")\n",
    "print(\"Before Imputation:\")\n",
    "print(\"Cholesterol Variance: {:.2f} \\t\\t Cholesterol Mean: {:.2f}\".format(dataset[\"Cholesterol\"].var(), dataset[\"Cholesterol\"].mean()))\n",
    "print(\"RestingBP Variance: {:.2f} \\t\\t Cholesterol Mean: {:.2f}\".format(dataset[\"RestingBP\"].var(), dataset[\"RestingBP\"].mean()))\n",
    "\n",
    "#Cholesterol Imputation\n",
    "\n",
    "quantiles = np.percentile(dataset[\"Cholesterol\"].dropna(), [10, 25, 50, 75, 90])#Quantiles of non-null values\n",
    "n_missing = dataset[\"Cholesterol\"].isna().sum()#Number of missing Values\n",
    "\n",
    "#Sample values from non-missing distribution according to quantiles\n",
    "sampled_cholesterol_values = np.random.choice(quantiles, size=n_missing, replace=True)\n",
    "quantile_imputed_dataset.loc[dataset[\"Cholesterol\"].isna(), \"Cholesterol\"] = sampled_cholesterol_values.astype(int)\n",
    "\n",
    "\n",
    "\n",
    "#RestingBP Imputation\n",
    "\n",
    "quantiles = np.percentile(dataset[\"RestingBP\"].dropna(), [10, 25, 50, 75, 90])#Quantiles of non-null values\n",
    "n_missing = dataset[\"RestingBP\"].isna().sum()#Number of missing Values\n",
    "\n",
    "#Sample values from non-missing distribution according to quantiles\n",
    "sampled_restingBP_values = np.random.choice(quantiles, size=n_missing, replace=True)\n",
    "quantile_imputed_dataset.loc[dataset[\"RestingBP\"].isna(), \"RestingBP\"] = sampled_restingBP_values.astype(int)\n",
    "\n",
    "\n",
    "print(\"\\n\\nAfter Imputation:\")\n",
    "print(\"Imputed Cholesterol Variance: {:.2f} \\t Imputed Cholesterol Mean: {:.2f}\".format(sampled_cholesterol_values.var(), sampled_cholesterol_values.mean()))\n",
    "print(\"Imputed RestingBP Variance: {:.2f} \\t Imputed RestingBP Mean: {:.2f}\".format(sampled_restingBP_values.var(), sampled_restingBP_values.mean()))\n",
    "print()\n",
    "print(\"Cholesterol Variance: {:.2f} \\t\\t Cholesterol Mean: {:.2f}\".format(quantile_imputed_dataset[\"Cholesterol\"].var(), quantile_imputed_dataset[\"Cholesterol\"].mean()))\n",
    "print(\"RestingBP Variance: {:.2f} \\t\\t Cholesterol Mean: {:.2f}\".format(quantile_imputed_dataset[\"RestingBP\"].var(), quantile_imputed_dataset[\"RestingBP\"].mean()))\n"
   ]
  },
  {
   "cell_type": "markdown",
   "id": "2a560846",
   "metadata": {
    "slideshow": {
     "slide_type": "slide"
    }
   },
   "source": [
    "After Loads of experimentation and running each dataset through the classifier, there is essentially no difference because the cholesterol feature is terrible and the random forest classifier doesn't use it.\n",
    "\n",
    "So I will choose the quantile imputed dataset going forward as it has the highest variance of the 3 and experiment with the different imputed datasets for the quantum part of the project"
   ]
  },
  {
   "cell_type": "code",
   "execution_count": null,
   "id": "61907c53",
   "metadata": {
    "slideshow": {
     "slide_type": "skip"
    }
   },
   "outputs": [],
   "source": [
    "dataset = quantile_imputed_dataset"
   ]
  },
  {
   "cell_type": "code",
   "execution_count": null,
   "id": "7b20ac6b",
   "metadata": {
    "slideshow": {
     "slide_type": "subslide"
    }
   },
   "outputs": [],
   "source": [
    "#Replace negative Oldpeak values absolute value. This is under the assumption that there was a recording error for the affected rows\n",
    "dataset.loc[dataset[\"Oldpeak\"] < 0, \"Oldpeak\"] = dataset[\"Oldpeak\"].abs()\n",
    "\n",
    "display(dataset.describe().T)"
   ]
  },
  {
   "cell_type": "markdown",
   "id": "d01977b6-29a0-403f-a168-0cdbf360109c",
   "metadata": {
    "slideshow": {
     "slide_type": "notes"
    }
   },
   "source": [
    "Checking the upper limit of \"Cholesterol\" and \"RestingBP\" show that the values seem unrealistic but are probably real-life examples"
   ]
  },
  {
   "cell_type": "code",
   "execution_count": null,
   "id": "c869e151-1a1f-4f16-a64a-ca175d63584f",
   "metadata": {
    "slideshow": {
     "slide_type": "subslide"
    }
   },
   "outputs": [],
   "source": [
    "dataset[dataset[\"Cholesterol\"] > 500]"
   ]
  },
  {
   "cell_type": "code",
   "execution_count": null,
   "id": "46732906-08aa-49f5-bcf2-05897886e987",
   "metadata": {
    "slideshow": {
     "slide_type": "subslide"
    }
   },
   "outputs": [],
   "source": [
    "dataset[dataset[\"RestingBP\"] > 180]"
   ]
  },
  {
   "cell_type": "markdown",
   "id": "6f478afc-f109-4e5c-9ee6-2eb9fdd81c56",
   "metadata": {
    "slideshow": {
     "slide_type": "slide"
    }
   },
   "source": [
    "### Check for Outliers\n",
    "\n",
    "Random Forest is generally robust to outliers however, VQCs are not"
   ]
  },
  {
   "cell_type": "code",
   "execution_count": null,
   "id": "a6fd875c",
   "metadata": {
    "slideshow": {
     "slide_type": "slide"
    }
   },
   "outputs": [],
   "source": [
    "#Having another look at the distribution\n",
    "plt.figure(figsize=(15, 10))\n",
    "\n",
    "\n",
    "numerical_features = [\"Age\", \"RestingBP\", \"Cholesterol\", \"MaxHR\", \"Oldpeak\"]\n",
    "\n",
    "for i, col in enumerate(numerical_features, 1):\n",
    "    plt.subplot(2, 3, i)\n",
    "    sns.histplot(dataset[col], kde=True, bins=50)\n",
    "    plt.title(\"Distribution of {}\".format(col))\n",
    "\n",
    "plt.show()"
   ]
  },
  {
   "cell_type": "code",
   "execution_count": null,
   "id": "a1a381e7-d1b3-47b3-b6ce-5368a00bac80",
   "metadata": {
    "slideshow": {
     "slide_type": "slide"
    }
   },
   "outputs": [],
   "source": [
    "plt.figure(figsize=(15, 10))\n",
    "\n",
    "\n",
    "numerical_features = [\"Age\", \"RestingBP\", \"Cholesterol\", \"MaxHR\", \"Oldpeak\"]\n",
    "\n",
    "for i, col in enumerate(numerical_features, 1):\n",
    "    plt.subplot(2, 3, i)\n",
    "    sns.boxplot(y=dataset[col])\n",
    "    plt.title(f\"Boxplot of {col}\")\n",
    "\n",
    "    \n",
    "#Inter quartile outliers\n",
    "Q1 = dataset[numerical_features].quantile(0.25)\n",
    "Q3 = dataset[numerical_features].quantile(0.75)\n",
    "IQR = Q3 - Q1\n",
    "\n",
    "outliers = (dataset[numerical_features] < (Q1 - (1.5 * IQR))) | (dataset[numerical_features] > (Q3 + (1.5 * IQR)))\n",
    "print(\"Outliers per feature:\")\n",
    "print(outliers.sum())\n",
    "\n",
    "plt.show()"
   ]
  },
  {
   "cell_type": "code",
   "execution_count": null,
   "id": "31e8e6ef",
   "metadata": {
    "slideshow": {
     "slide_type": "slide"
    }
   },
   "outputs": [],
   "source": [
    "#Cap features with outliers to the 1st and 99th percentiles\n",
    "outlier_features = [\"Cholesterol\", \"RestingBP\", \"Oldpeak\"]\n",
    "\n",
    "for i, col in enumerate(outlier_features, 1):\n",
    "    lower_bound = dataset[col].quantile(0.01)\n",
    "    upper_bound = dataset[col].quantile(0.99)\n",
    "    dataset[col] = dataset[col].clip(lower=lower_bound, upper=upper_bound)"
   ]
  },
  {
   "cell_type": "code",
   "execution_count": null,
   "id": "28a213bc",
   "metadata": {
    "slideshow": {
     "slide_type": "slide"
    }
   },
   "outputs": [],
   "source": [
    "#Having another look at the distribution\n",
    "plt.figure(figsize=(15, 10))\n",
    "\n",
    "\n",
    "numerical_features = [\"Age\", \"RestingBP\", \"Cholesterol\", \"MaxHR\", \"Oldpeak\"]\n",
    "\n",
    "for i, col in enumerate(numerical_features, 1):\n",
    "    plt.subplot(2, 3, i)\n",
    "    sns.histplot(dataset[col], kde=True, bins=50)\n",
    "    plt.title(\"Distribution of {}\".format(col))\n",
    "\n",
    "plt.show()"
   ]
  },
  {
   "cell_type": "markdown",
   "id": "1abeb6e5",
   "metadata": {
    "slideshow": {
     "slide_type": "slide"
    }
   },
   "source": [
    "Oldpeak clearly has some issues and is heavily skewed with almost 400 counts of 0. The problem is 0 is a valid value and can be 0 in healthy individuals. \n",
    "\n",
    "However there is a precedent for missing data (as evidenced by 173 values for cholesterol being 0) in the dataset. \n",
    "\n",
    "The only safe bet that I can think of is creating new features to represent the possibility of missing data."
   ]
  },
  {
   "cell_type": "code",
   "execution_count": null,
   "id": "3cee93cf",
   "metadata": {
    "slideshow": {
     "slide_type": "subslide"
    }
   },
   "outputs": [],
   "source": [
    "dataset[\"Oldpeak_Binned\"] = pd.cut(dataset[\"Oldpeak\"], bins=[-0.1, 0, 1, 2, 3, 6.2], labels=[0, 1, 2, 3, 4])\n",
    "\n",
    "dataset[\"Oldpeak_Missing\"] = (dataset[\"Oldpeak\"] == 0).astype(int)"
   ]
  },
  {
   "cell_type": "markdown",
   "id": "eff4b46f-ecd8-4083-9d58-85e76de9ac97",
   "metadata": {
    "jp-MarkdownHeadingCollapsed": true,
    "slideshow": {
     "slide_type": "slide"
    }
   },
   "source": [
    "## Feature Selection\n",
    "\n",
    "For Random Forest, Feature Selection isn't very important. From preliminary EDA, not many features are highly correlated.\n",
    "\n",
    "However, feature selection for QML will become important at a later time"
   ]
  },
  {
   "cell_type": "markdown",
   "id": "5440d72b-2bf2-4f8c-9507-5e1bc394c062",
   "metadata": {
    "slideshow": {
     "slide_type": "slide"
    }
   },
   "source": [
    "## Feature Engineering\n",
    "\n",
    "Categorical variables were already encoded earlier"
   ]
  },
  {
   "cell_type": "markdown",
   "id": "cc77f54a-e222-4505-9add-215fb2d62bf0",
   "metadata": {
    "slideshow": {
     "slide_type": "slide"
    }
   },
   "source": [
    "### Creation of new Features\n",
    "\n",
    "Summary:\n",
    "<ol>\n",
    "    <li>Oldpeak_Binned to deal with the skewness</li>\n",
    "    <li>Oldpeak_Missing to indicate when Oldpeak == 0. This could possibly represent potential missing data</li>\n",
    "    <li>Age Groups (Binning Age)</li>\n",
    "    <li>Cholesterol to Age Ratio. This could indicate the severity of cholestrol and younger and older ages</li>\n",
    "    <li>Combining RestingBP and Cholesterol. In my mind, resting blood pressure and cholesterol have some form of interaction</li>\n",
    "</ol>"
   ]
  },
  {
   "cell_type": "code",
   "execution_count": null,
   "id": "bade9a20-1ddc-4783-8010-f699afec5db3",
   "metadata": {
    "slideshow": {
     "slide_type": "subslide"
    }
   },
   "outputs": [],
   "source": [
    "#Age Groups\n",
    "\n",
    "dataset[\"AgeGroup\"] = pd.cut(dataset[\"Age\"], bins=[20, 35, 50, 65, 100], labels=[\"0\", \"1\", \"2\", \"3\"])\n",
    "#The labels represent [Under 35s, Over 35s, Over 50s, Over 65s]"
   ]
  },
  {
   "cell_type": "code",
   "execution_count": null,
   "id": "f9e771d5-c059-4bc2-a210-6aa4794964c6",
   "metadata": {
    "slideshow": {
     "slide_type": "subslide"
    }
   },
   "outputs": [],
   "source": [
    "#Cholesterol to Age Ratio\n",
    "#This could indicate the severity of cholestrol at younger and older ages\n",
    "\n",
    "dataset[\"Cholesterol_Age_Ratio\"] = dataset[\"Cholesterol\"] / dataset[\"Age\"]"
   ]
  },
  {
   "cell_type": "code",
   "execution_count": null,
   "id": "edecee27-4819-44fd-8297-7c08e9e39c92",
   "metadata": {
    "slideshow": {
     "slide_type": "subslide"
    }
   },
   "outputs": [],
   "source": [
    "#Combining RestingBP and Cholesterol\n",
    "#In my mind, resting blood pressure and cholesterol have some form of interaction\n",
    "\n",
    "dataset[\"Cholesterol_RestingBP\"] = dataset[\"Cholesterol\"] * dataset[\"RestingBP\"]"
   ]
  },
  {
   "cell_type": "code",
   "execution_count": null,
   "id": "df15e21f-10d5-4321-b419-4fe480f60400",
   "metadata": {
    "slideshow": {
     "slide_type": "skip"
    }
   },
   "outputs": [],
   "source": [
    "dataset.describe().T"
   ]
  },
  {
   "cell_type": "markdown",
   "id": "427813ba-6f23-4066-876e-1c97b2b5f5bb",
   "metadata": {
    "slideshow": {
     "slide_type": "slide"
    }
   },
   "source": [
    "### Feature Scaling\n",
    "\n",
    "Feature Scaling is not needed for Random Forest"
   ]
  },
  {
   "cell_type": "markdown",
   "id": "f8139c28-4c14-4687-a794-783926d80390",
   "metadata": {
    "slideshow": {
     "slide_type": "slide"
    },
    "tags": []
   },
   "source": [
    "## Class Imbalance\n",
    "\n",
    "There is only a moderate class imbalance, so resampling may not be required"
   ]
  },
  {
   "cell_type": "code",
   "execution_count": null,
   "id": "73089a81-9aae-4c60-a978-69ced5888467",
   "metadata": {
    "slideshow": {
     "slide_type": "slide"
    }
   },
   "outputs": [],
   "source": [
    "sns.countplot(x=dataset[\"HeartDisease\"])\n",
    "plt.title(\"Class Distribution\")\n",
    "plt.show()\n",
    "dataset[\"HeartDisease\"].value_counts()"
   ]
  },
  {
   "cell_type": "markdown",
   "id": "9826b174-595b-4d7c-b43e-bb82c8b3f8dc",
   "metadata": {
    "slideshow": {
     "slide_type": "notes"
    }
   },
   "source": [
    "Because of the imbalance, performance metrices that exclude accuracy would be more indicative of performance"
   ]
  },
  {
   "cell_type": "markdown",
   "id": "63d3b6c5-4166-466c-95cb-0a138d43df86",
   "metadata": {
    "slideshow": {
     "slide_type": "slide"
    }
   },
   "source": [
    "# Classical Classification\n",
    "\n",
    "I'm using random forest, here are the specifications:\n",
    "\n",
    "<ol>\n",
    "    <li>Data is split 70 : 30 and stratified</li>\n",
    "    <li>There are 10 runs with different splits and trainings with aggregated performance metrics to remove the randomness</li>\n",
    "    <li>The classifier is grid searched (with k-fold cross validation) on training data and has a tight hyper parameter range due to a lot of fine-tuning (It also overfits if given the range to move around). The current hyper-parameters do well to reduce overfitting, improve generalisation and mitigate the class imbalance effectively</li>\n",
    "    <li>Several performance metrics are measured on fully separated test data which will be expanded upon at evalution</li>\n",
    "</ol>"
   ]
  },
  {
   "cell_type": "code",
   "execution_count": null,
   "id": "1f7461e9-6fe4-4d05-9107-3ee98929bf5b",
   "metadata": {
    "slideshow": {
     "slide_type": "skip"
    }
   },
   "outputs": [],
   "source": [
    "import sklearn\n",
    "import sklearn.ensemble\n",
    "import sklearn.model_selection\n",
    "from sklearn.metrics import accuracy_score, precision_score, recall_score, f1_score, roc_auc_score, average_precision_score, confusion_matrix, log_loss"
   ]
  },
  {
   "cell_type": "code",
   "execution_count": null,
   "id": "0120b256",
   "metadata": {},
   "outputs": [],
   "source": [
    "#Evaluation Metrics\n",
    "class EvalMetrics():\n",
    "    def __init__(self):\n",
    "        #Performance Metrics\n",
    "        self.metrics = {\n",
    "            \"train_accuracy\": [], \"train_precision\": [], \"train_recall\": [], \"train_f1\": [], \"train_roc_auc\": [], \"train_pr_auc\": [], \"train_log_loss\": [],\n",
    "            \"test_accuracy\": [], \"test_precision\": [], \"test_recall\": [], \"test_f1\": [], \"test_roc_auc\": [], \"test_pr_auc\": [], \"test_log_loss\": [],\n",
    "            \"compute_time\": []\n",
    "        }\n",
    "        #Confusion matrices that will be aggregated to\n",
    "        self.train_cf_matrix_sum = np.zeros((2, 2))\n",
    "        self.test_cf_matrix_sum = np.zeros((2, 2))\n",
    "    \n",
    "        self.pickle_info = {}\n",
    "        \n",
    "    def set_pickle_info(self, n_qubits, n_layers_encoding, n_layers_ansatz, shots, n_runs, batch_size, num_epochs, circuit, opt_type):\n",
    "        self.pickle_info[\"n_qubits\"] = n_qubits\n",
    "        self.pickle_info[\"n_layers_encoding\"] = n_layers_encoding\n",
    "        self.pickle_info[\"n_layers_ansatz\"] = n_layers_ansatz\n",
    "        self.pickle_info[\"shots\"] = shots\n",
    "        self.pickle_info[\"n_runs\"] = n_runs\n",
    "        self.pickle_info[\"batch_size\"] = batch_size\n",
    "        self.pickle_info[\"num_epochs\"] = num_epochs\n",
    "        self.pickle_info[\"circuit\"] = circuit.__name__\n",
    "        self.pickle_info[\"opt_type\"] = opt_type\n",
    "\n",
    "    def add_predictions(self, y_train, y_train_pred, y_train_pred_proba, y_test, y_test_pred, y_test_pred_proba, compute_time):\n",
    "        #Store Performance Metrics\n",
    "        self.metrics[\"train_accuracy\"].append(accuracy_score(y_train, y_train_pred))\n",
    "        self.metrics[\"train_precision\"].append(precision_score(y_train, y_train_pred))\n",
    "        self.metrics[\"train_recall\"].append(recall_score(y_train, y_train_pred))\n",
    "        self.metrics[\"train_f1\"].append(f1_score(y_train, y_train_pred))\n",
    "        self.metrics[\"train_roc_auc\"].append(roc_auc_score(y_train, y_train_pred_proba))\n",
    "        self.metrics[\"train_pr_auc\"].append(average_precision_score(y_train, y_train_pred_proba))\n",
    "        self.metrics[\"train_log_loss\"].append(log_loss(y_train, y_train_pred_proba))\n",
    "\n",
    "        self.metrics[\"test_accuracy\"].append(accuracy_score(y_test, y_test_pred))\n",
    "        self.metrics[\"test_precision\"].append(precision_score(y_test, y_test_pred))\n",
    "        self.metrics[\"test_recall\"].append(recall_score(y_test, y_test_pred))\n",
    "        self.metrics[\"test_f1\"].append(f1_score(y_test, y_test_pred))\n",
    "        self.metrics[\"test_roc_auc\"].append(roc_auc_score(y_test, y_test_pred_proba))\n",
    "        self.metrics[\"test_pr_auc\"].append(average_precision_score(y_test, y_test_pred_proba))\n",
    "        self.metrics[\"test_log_loss\"].append(log_loss(y_test, y_test_pred_proba))\n",
    "        \n",
    "        self.metrics[\"compute_time\"].append(compute_time)\n",
    "        #Accumulate confusion matrices\n",
    "        self.train_cf_matrix_sum += confusion_matrix(y_train, y_train_pred)\n",
    "        self.test_cf_matrix_sum += confusion_matrix(y_test, y_test_pred)\n",
    "    \n",
    "    \n",
    "    def plot_confusion_matrix(self, cf, subplot_index, title):\n",
    "        plt.subplot(1, 2, subplot_index)\n",
    "        sns.heatmap(cf, annot=True, fmt=\".2f\", cmap=\"Blues\", xticklabels=[\"Negative\", \"Positive\"], yticklabels=[\"Negative\", \"Positive\"])\n",
    "        plt.xlabel(\"Predicted Label\")\n",
    "        plt.ylabel(\"True Label\")\n",
    "        plt.title(title)\n",
    "    \n",
    "    def print_metrics(self):\n",
    "        #Compute mean and standard deviations\n",
    "        metrics_mean = {}\n",
    "        metrics_std = {}\n",
    "        for key, values in self.metrics.items():\n",
    "            metrics_mean[key] = np.mean(values)\n",
    "            metrics_std[key] = np.std(values)\n",
    "\n",
    "        #Print averaged Performance Metrics\n",
    "        print(\"\\nAveraged Performance Metrics Over\", self.pickle_info[\"n_runs\"], \"Runs:\")\n",
    "        print(f\"Train Accuracy: {metrics_mean['train_accuracy']:.4f} ± {metrics_std['train_accuracy']:.4f}\\t\\t\\t\\t Test Accuracy: {metrics_mean['test_accuracy']:.4f} ± {metrics_std['test_accuracy']:.4f}\")\n",
    "        print(f\"Train Precision: {metrics_mean['train_precision']:.4f} ± {metrics_std['train_precision']:.4f}\\t\\t\\t Test Precision: {metrics_mean['test_precision']:.4f} ± {metrics_std['test_precision']:.4f}\")\n",
    "        print(f\"Train Recall: {metrics_mean['train_recall']:.4f} ± {metrics_std['train_recall']:.4f}\\t\\t\\t\\t Test Recall: {metrics_mean['test_recall']:.4f} ± {metrics_std['test_recall']:.4f}\")\n",
    "        print(f\"Train F1-score: {metrics_mean['train_f1']:.4f} ± {metrics_std['train_f1']:.4f}\\t\\t\\t\\t Test F1-score: {metrics_mean['test_f1']:.4f} ± {metrics_std['test_f1']:.4f}\")\n",
    "        print(f\"Train ROC AUC: {metrics_mean['train_roc_auc']:.4f} ± {metrics_std['train_roc_auc']:.4f}\\t\\t\\t\\t Test ROC AUC: {metrics_mean['test_roc_auc']:.4f} ± {metrics_std['test_roc_auc']:.4f}\")\n",
    "        print(f\"Train Precision-Recall AUC: {metrics_mean['train_pr_auc']:.4f} ± {metrics_std['train_pr_auc']:.4f}\\t\\t Test Precision-Recall AUC: {metrics_mean['test_pr_auc']:.4f} ± {metrics_std['test_pr_auc']:.4f}\")\n",
    "        print(f\"Train Log Loss: {metrics_mean['train_log_loss']:.4f} ± {metrics_std['train_log_loss']:.4f}\\t\\t\\t\\t Test Log Loss: {metrics_mean['test_log_loss']:.4f} ± {metrics_std['test_log_loss']:.4f}\")\n",
    "        print(f\"Compute Time: {metrics_mean['compute_time']:.4f} ± {metrics_std['compute_time']:.4f}\")\n",
    "\n",
    "        #Confusion Matrices\n",
    "        plt.figure(figsize=(12, 4))\n",
    "\n",
    "        #Normalise confusion matrices\n",
    "        train_cf_matrix_avg = (self.train_cf_matrix_sum / self.train_cf_matrix_sum.sum()) * 100\n",
    "        test_cf_matrix_avg = (self.test_cf_matrix_sum / self.test_cf_matrix_sum.sum()) * 100\n",
    "\n",
    "        self.plot_confusion_matrix(train_cf_matrix_avg, 1, \"Train Confusion Matrix\")\n",
    "        self.plot_confusion_matrix(test_cf_matrix_avg, 2, \"Test Confusion Matrix\")\n",
    "        plt.show()"
   ]
  },
  {
   "cell_type": "code",
   "execution_count": null,
   "id": "42a6310d",
   "metadata": {
    "slideshow": {
     "slide_type": "subslide"
    }
   },
   "outputs": [],
   "source": [
    "#Grid Search Hyper-Parameters\n",
    "RFC = sklearn.ensemble.RandomForestClassifier()\n",
    "param_grid = {\n",
    "    'class_weight': [\"balanced\"],\n",
    "    'bootstrap': [True, False],\n",
    "    'criterion': [\"gini\", \"entropy\", \"log_loss\"],\n",
    "    'max_depth': [20, 22],\n",
    "    'max_features': [4, 5, 6, 7, 8],\n",
    "    'min_samples_leaf': [30],\n",
    "    'min_samples_split': [4],\n",
    "    'min_weight_fraction_leaf': [0.01],\n",
    "    'ccp_alpha': [0.001],\n",
    "    'n_estimators': [80]\n",
    "}"
   ]
  },
  {
   "cell_type": "code",
   "execution_count": null,
   "id": "f8a86f55",
   "metadata": {
    "slideshow": {
     "slide_type": "slide"
    }
   },
   "outputs": [],
   "source": [
    "n_runs = 10\n",
    "\n",
    "#Performance Metrics\n",
    "Metrics = EvalMetrics()\n",
    "Metrics.pickle_info[\"n_runs\"] = n_runs\n",
    "\n",
    "for i in range(n_runs):\n",
    "    print(f\"Run {i+1}/{n_runs}: \")\n",
    "    \n",
    "    \n",
    "    #Split Dataset\n",
    "    X = dataset[dataset.columns[1:]]\n",
    "    y = dataset[\"HeartDisease\"]\n",
    "    X_train, X_test, y_train, y_test = sklearn.model_selection.train_test_split(X, y, train_size = 0.7, stratify = y)\n",
    "    \n",
    "    #Grid Search\n",
    "    grid_search_results = sklearn.model_selection.GridSearchCV(estimator=RFC, param_grid=param_grid, cv=5, verbose = 3, n_jobs = -1)\n",
    "    grid_search_results.fit(X_train, y_train)\n",
    "    \n",
    "    #Grid Search's best estimator\n",
    "    best_grid = grid_search_results.best_estimator_\n",
    "\n",
    "    print(\"Best Parameters: {}\".format(grid_search_results.best_params_))\n",
    "    compute_time = np.sum(grid_search_results.cv_results_['mean_fit_time'])\n",
    "    print(\"Took {:.0f} Seconds\\n\".format(compute_time))\n",
    "    \n",
    "    \n",
    "    #Predictions\n",
    "    y_train_pred = best_grid.predict(X_train)\n",
    "    y_train_pred_proba = best_grid.predict_proba(X_train)[:, 1]\n",
    "\n",
    "    y_test_pred = best_grid.predict(X_test)\n",
    "    y_test_pred_proba = best_grid.predict_proba(X_test)[:, 1]\n",
    "    \n",
    "    \n",
    "    #Store Performance Metrics\n",
    "    Metrics.add_predictions(y_train, y_train_pred, y_train_pred_proba, y_test, y_test_pred, y_test_pred_proba, compute_time)"
   ]
  },
  {
   "cell_type": "markdown",
   "id": "cfe66aa6",
   "metadata": {
    "slideshow": {
     "slide_type": "slide"
    }
   },
   "source": [
    "## Performance Metrics\n",
    "\n",
    "These performance metrics were considered taking to account the slight class imbalance in the data; ~55% : ~45% positive label.\n",
    "\n",
    "<ol>\n",
    "    <li>Accuracy: Not the most meaningful metric given the imbalance</li>\n",
    "    <li>Precision: Evaluates the quality of positive predictions</li>\n",
    "    <li>Recall: Becomes important when you want to capture as many positive instances as possible.</li>\n",
    "    <li>F1-Measure: Balances Precision and Recall</li>\n",
    "    <li>Area Under the Receiving Operating Characteric Curve: Great metric for assessing overall discriminability</li>\n",
    "    <li>Area Under the Precision-Recall Curve: Directly measures ability to identify the minority class</li>\n",
    "    <li>Log Loss: Penalises high confidence (probability) in incorrect predictions</li>\n",
    "    <li>Confusion Matrix: Summary of the True Positives, True Negatives, False Positives and False Negatives</li>\n",
    "</ol>"
   ]
  },
  {
   "cell_type": "code",
   "execution_count": null,
   "id": "2fa6f8ab",
   "metadata": {
    "slideshow": {
     "slide_type": "slide"
    }
   },
   "outputs": [],
   "source": [
    "Metrics.print_metrics()"
   ]
  },
  {
   "cell_type": "markdown",
   "id": "0a6949ae",
   "metadata": {
    "slideshow": {
     "slide_type": "skip"
    }
   },
   "source": [
    "KNN:\n",
    "\n",
    "Averaged Performance Metrics Over 10 Runs:\n",
    "Train Accuracy: 0.8637 ± 0.0066\t\t\t\t Test Accuracy: 0.8522 ± 0.0158\n",
    "Train Precision: 0.8738 ± 0.0084\t\t\t Test Precision: 0.8657 ± 0.0150\n",
    "Train Recall: 0.8808 ± 0.0098\t\t\t\t Test Recall: 0.8686 ± 0.0341\n",
    "Train F1-score: 0.8773 ± 0.0060\t\t\t\t Test F1-score: 0.8667 ± 0.0163\n",
    "Train ROC AUC: 0.9382 ± 0.0055\t\t\t\t Test ROC AUC: 0.9242 ± 0.0077\n",
    "Train Precision-Recall AUC: 0.9443 ± 0.0077\t\t Test Precision-Recall AUC: 0.9270 ± 0.0122\n",
    "Train Log Loss: 0.3573 ± 0.0127\t\t\t\t Test Log Loss: 0.3808 ± 0.0110"
   ]
  },
  {
   "cell_type": "markdown",
   "id": "9c34f7e7",
   "metadata": {
    "slideshow": {
     "slide_type": "slide"
    }
   },
   "source": [
    "## Interpretation of Results\n",
    "\n",
    "The model generalises well and does not overfit the training data (too much)"
   ]
  },
  {
   "cell_type": "markdown",
   "id": "f75efb69-a8b0-41a3-b872-4aa4cb882b1b",
   "metadata": {
    "slideshow": {
     "slide_type": "slide"
    },
    "tags": []
   },
   "source": [
    "# Quantum Plan\n",
    "\n",
    "<ol>\n",
    "    <li>Plan A: Do Pennylane to get faster things going which will enable wider, deeper, and higher iteration circuits with less experimentation</li>\n",
    "    <li>Plan B: Give up on Pennylane and do Qiskit with lots of experimentation of random things that may or may not work.</li>\n",
    "</ol>\n",
    "\n",
    "\n",
    "The challenging aspects of the data:\n",
    "\n",
    "<ul>\n",
    "    <li>The large number of features for 1 qubit per feature</li>\n",
    "    <li>The mixed data, particularly the nominal categorical variables for rotation encoding</li>\n",
    "    <li>The class imbalance. Although it is minor, could still potentially bias a quantum model</li>\n",
    "    <li>There are still outliers in the data due to my conservative approach to clip the data at the 1st and 99th percentiles</li>\n",
    "</ul>"
   ]
  },
  {
   "cell_type": "markdown",
   "id": "4ef7257f-ea67-4601-9993-ee4012a64d52",
   "metadata": {
    "slideshow": {
     "slide_type": "slide"
    },
    "tags": []
   },
   "source": [
    "## Data Preparation\n",
    "\n",
    "Most of the data prep work is done"
   ]
  },
  {
   "cell_type": "markdown",
   "id": "a0169d23-fbf4-457a-911b-e464dd553288",
   "metadata": {
    "slideshow": {
     "slide_type": "slide"
    }
   },
   "source": [
    "### Feature Selection\n",
    "\n",
    "Random Forest feature importance is a good jumping off point. \n",
    "\n",
    "Evidently from the next graph, some features can be thrown away because they are completely useless\n",
    "\n",
    "I can first test with top 3-5 most important features then later experiment with using the whole feature set\n",
    "\n",
    "To encode more features, I will probably have to employ PCA"
   ]
  },
  {
   "cell_type": "code",
   "execution_count": null,
   "id": "243cec1a-3c34-4448-924c-8a379a7eb197",
   "metadata": {
    "slideshow": {
     "slide_type": "slide"
    }
   },
   "outputs": [],
   "source": [
    "plt.figure(figsize=(16, 6))\n",
    "importances = best_grid.feature_importances_\n",
    "sorted_indices = np.argsort(importances)[::-1]\n",
    "\n",
    "plt.title('Feature Importance')\n",
    "plt.bar(range(X_train.shape[1]), importances[sorted_indices], align='center')\n",
    "plt.xticks(range(X_train.shape[1]), X_train.columns[sorted_indices], rotation=60)\n",
    "\n",
    "\n",
    "plt.show()"
   ]
  },
  {
   "cell_type": "markdown",
   "id": "bbe4d7c4-e276-47f9-b5d0-ec5192ad5ebf",
   "metadata": {
    "slideshow": {
     "slide_type": "slide"
    }
   },
   "source": [
    "### Feature Engineering\n",
    "\n",
    "Rotation encoding seems the most sensible as the number of useful features I have seem to be small\n",
    "<ol>\n",
    "    <li>Normalisation of features between $0$ and $2\\pi$</li>\n",
    "    <li>Padding around $0$ and $2\\pi$ as they are the same value</li>\n",
    "    <li>I can also experiment with sklearn.preprocessing.PolynomialFeatures to introduce more non-linearity</li>\n",
    "</ol>"
   ]
  },
  {
   "cell_type": "markdown",
   "id": "42224932-37bf-4ff3-b1d8-33c04b32c2c9",
   "metadata": {
    "slideshow": {
     "slide_type": "slide"
    }
   },
   "source": [
    "## Data Encoding\n",
    "\n",
    "Number of qubits used would be between 3 and 5 as a start. Obviously, the less qubits, the better the turnaround time for testing.\n",
    "\n",
    "<ol>\n",
    "    <li>I want to try having two different data encoding ansatze one after the other which will probably perform badly, but I'm curious</li>\n",
    "    <li>The possibility of reducing number of qubits by encoding more than 1 feature onto the same wire</li>\n",
    "    <li>I'll also experiment with having trainable parameters inside the ZZFeaturemap ansatz (or something similar) similar to the examples seen in literature I've looked at so far</li>\n",
    "</ol>"
   ]
  },
  {
   "cell_type": "markdown",
   "id": "887d01e5-fbfb-43c6-b06f-6b14d60496fc",
   "metadata": {
    "slideshow": {
     "slide_type": "slide"
    }
   },
   "source": [
    "## Ansatz\n",
    "\n",
    "The way I can think to do this step would be to experiment loads of different Ansatz. As I can't figure out if there is a \"best\" one for my case and my dataset\n",
    "<ol>\n",
    "    <li>I intend to experiment with few different Ansatz models seen in the literature that other people have used and possibly add a couple tweaks to it just to see if there is any difference</li>\n",
    "    <li>I also want to experiment with using Ry, Rz gates in tandem (-- entangle -- Rx -- Ry -- entangle -- etc.) as it seems to be more expressive</li>\n",
    "    <li>A good place to start would be to take inspiration from Qiskit's RealAmplitudes and EfficientSU2</li>\n",
    "</ol>\n",
    "\n",
    "To me, it seems this important step of the model isn't very clear-cut and will result in a lot of trial and error."
   ]
  },
  {
   "cell_type": "code",
   "execution_count": null,
   "id": "672bbf04",
   "metadata": {
    "slideshow": {
     "slide_type": "skip"
    }
   },
   "outputs": [],
   "source": [
    "from qiskit.circuit.library import RealAmplitudes, EfficientSU2\n",
    "from qiskit import QuantumCircuit"
   ]
  },
  {
   "cell_type": "code",
   "execution_count": null,
   "id": "93f68a8c",
   "metadata": {
    "slideshow": {
     "slide_type": "subslide"
    }
   },
   "outputs": [],
   "source": [
    "ansatz = RealAmplitudes(3, reps=2, insert_barriers=True)\n",
    "qc = QuantumCircuit(3)\n",
    "qc.compose(ansatz, inplace=True)\n",
    "qc.decompose().draw(\"mpl\")\n",
    "\n",
    "plt.show()"
   ]
  },
  {
   "cell_type": "code",
   "execution_count": null,
   "id": "28f4d1e0",
   "metadata": {
    "slideshow": {
     "slide_type": "subslide"
    }
   },
   "outputs": [],
   "source": [
    "ansatz = EfficientSU2(3, reps=2)\n",
    "qc = QuantumCircuit(3)\n",
    "qc.compose(ansatz, inplace=True)\n",
    "qc.decompose().draw(\"mpl\")\n",
    "\n",
    "plt.show()"
   ]
  },
  {
   "cell_type": "markdown",
   "id": "31cefa20",
   "metadata": {
    "slideshow": {
     "slide_type": "slide"
    }
   },
   "source": [
    "## Output Decoding\n",
    "\n",
    "For my case with binary classification, the easiest way I can think to do the output decoding step will based on the parity of the measured bitstring from the qubits. (e.g. 000 = class 0, 001 = class 1) \n",
    "\n",
    "Then, expectation values and probability distributions can be constructed (with sufficient number of shots) and used to calculate the loss\n",
    "\n"
   ]
  },
  {
   "cell_type": "markdown",
   "id": "7cd30fa7-dd98-41f0-837d-adc1b84f7486",
   "metadata": {
    "slideshow": {
     "slide_type": "slide"
    }
   },
   "source": [
    "## Optimisation\n",
    "\n",
    "Cost Function: Binary Cross Entropy for gradient descent (e.g. ADAM)\n",
    "\n",
    "Then parameters are iteratively updated\n",
    "\n",
    "I should also experiment with gradient-free optimisers\n",
    "\n",
    "A small ambiguity I have is whether I should implement the optimiser myself or use Pennylane/Qiskit optimisers"
   ]
  },
  {
   "cell_type": "markdown",
   "id": "e9b2f7ee",
   "metadata": {
    "slideshow": {
     "slide_type": "slide"
    },
    "tags": []
   },
   "source": [
    "## Running on Real Quantum Computers\n",
    "\n",
    "On https://quantum.ibm.com/, it tells me I have 10 minutes of free compute time. My initial assumption is that I will experiment with my design with simulated backends and run the design that performs the best or gives me the most insight. \n",
    "\n",
    "I'll also look into using Azure.\n",
    "\n",
    "I don't really know how much 10 minutes is, so the best I can do is be cautious and use it wisely.\n",
    "\n",
    "Hopefully before 2 week break is over, I'll have at least attempted to run something on a real device"
   ]
  },
  {
   "cell_type": "markdown",
   "id": "d0abf234",
   "metadata": {
    "slideshow": {
     "slide_type": "slide"
    }
   },
   "source": [
    "# Key Resources that will support the project\n",
    "\n",
    "Pennylane Tutorials/documentation on their website or Youtube\n",
    "\n",
    "Literature for ansatze and optimisers\n",
    "\n",
    "Patience"
   ]
  },
  {
   "cell_type": "code",
   "execution_count": null,
   "id": "e7b75964",
   "metadata": {
    "slideshow": {
     "slide_type": "skip"
    }
   },
   "outputs": [],
   "source": []
  },
  {
   "cell_type": "code",
   "execution_count": null,
   "id": "99ab2962",
   "metadata": {
    "slideshow": {
     "slide_type": "slide"
    }
   },
   "outputs": [],
   "source": []
  },
  {
   "cell_type": "markdown",
   "id": "6ec431fe",
   "metadata": {},
   "source": [
    "Ignore the below"
   ]
  },
  {
   "cell_type": "code",
   "execution_count": null,
   "id": "b011ffb1-b9d7-4a44-beed-28310aa65024",
   "metadata": {
    "slideshow": {
     "slide_type": ""
    },
    "tags": []
   },
   "outputs": [],
   "source": [
    "#pip install pennylane\n",
    "#!pip install pennylane-qiskit\n",
    "#!pip install jax"
   ]
  },
  {
   "cell_type": "code",
   "execution_count": 277,
   "id": "c994c482",
   "metadata": {},
   "outputs": [],
   "source": [
    "import pennylane as qml\n",
    "import numpy as np\n",
    "from pennylane import numpy as qnp\n",
    "from pennylane.optimize import AdamOptimizer\n",
    "\n",
    "import torch\n",
    "import torch.nn as nn\n",
    "from torch.optim import Adam\n",
    "\n",
    "import pickle\n",
    "import time"
   ]
  },
  {
   "cell_type": "markdown",
   "id": "189ceb99",
   "metadata": {
    "slideshow": {
     "slide_type": "slide"
    }
   },
   "source": []
  },
  {
   "cell_type": "code",
   "execution_count": 278,
   "id": "fd220fb9",
   "metadata": {
    "slideshow": {
     "slide_type": "slide"
    }
   },
   "outputs": [],
   "source": [
    "def entangle_layer():\n",
    "    \"\"\"  \"\"\"\n",
    "    for i in range(n_qubits-1):\n",
    "        qml.CNOT(wires = [i, (i+1) % n_qubits])"
   ]
  },
  {
   "cell_type": "code",
   "execution_count": 279,
   "id": "f6c6eb96",
   "metadata": {
    "slideshow": {
     "slide_type": "slide"
    }
   },
   "outputs": [],
   "source": [
    "#The nominal features are terrible in the dataset so haven't implemented normalisation for those\n",
    "def data_normalise(row, padding=0.8, opt_type=\"torch\"):\n",
    "    \"\"\" \n",
    "    Min Max normalisation between (padding, 2pi - padding)\n",
    "    (x - min(x) / max(x) - min(x)) * (2pi-2E) + E\n",
    "    Where E is the padding \n",
    "    \"\"\"\n",
    "    if opt_type==\"torch\":\n",
    "        row = torch.tensor(row)\n",
    "        #Get column mins and maxes for normalisation\n",
    "        column_mins = row.min(dim = 0).values\n",
    "        column_maxes = row.max(dim = 0).values\n",
    "        column_ranges = column_maxes - column_mins\n",
    "        column_ranges[column_ranges == 0] = 1 #Prevent division by 0 as per formula\n",
    "\n",
    "    else:\n",
    "        row = qnp.array(row)\n",
    "        #Get column mins and maxes for normalisation\n",
    "        column_mins = qnp.min(row, axis=0)\n",
    "        column_maxes = qnp.max(row, axis=0)\n",
    "        # Avoid division by zero\n",
    "        column_ranges = column_maxes - column_mins\n",
    "        column_ranges = qnp.where(column_ranges == 0, 1.0, column_ranges)\n",
    "\n",
    "\n",
    "    #Min max \n",
    "    normalised = ((row - column_mins) / column_ranges) * (2*np.pi - 2*padding) + padding\n",
    "    return normalised\n",
    "\n",
    "\n",
    "def basic_state_prep(datapoint):\n",
    "    \"\"\" \"\"\"\n",
    "    #SuperPosition\n",
    "    for i in range(n_qubits):\n",
    "        qml.H(wires=i)\n",
    "    for i in range(n_layers_encoding):\n",
    "        for j in range(n_qubits):\n",
    "            qml.RX(datapoint[j], wires=j)\n",
    "        entangle_layer()\n",
    "        \n",
    "def reup_state_prep(datapoint, params):\n",
    "    \"\"\"\"\"\"\n",
    "    for i in range(n_qubits):\n",
    "        qml.H(wires=i)\n",
    "    for i in range(n_layers_encoding):\n",
    "        for j in range(len(datapoint)):\n",
    "            qml.RX(datapoint[j], wires = j % n_qubits)\n",
    "            qml.RY(params[len(params)-1 - (j + i*len(datapoint))], wires = j % n_qubits)\n",
    "            \n",
    "            if j % n_qubits == n_qubits-1:\n",
    "                entangle_layer()\n",
    "                \n",
    "        if len(datapoint) % 2 != 0 and len(datapoint) != n_qubits:\n",
    "            entangle_layer()\n",
    "            \n",
    "def fourier_state_prep(datapoint):\n",
    "    \"\"\"\"\"\"\n",
    "    #SuperPosition\n",
    "    for i in range(n_qubits):\n",
    "        qml.H(wires=i)\n",
    "        \n",
    "    for i in range(n_layers_encoding):\n",
    "        for j in range(n_qubits):\n",
    "            qml.RY(np.sin(datapoint[j]), wires=j)\n",
    "            qml.RZ(np.cos(datapoint[j]), wires=j)\n",
    "        \n",
    "        entangle_layer()"
   ]
  },
  {
   "cell_type": "code",
   "execution_count": 280,
   "id": "8ee2886a",
   "metadata": {
    "slideshow": {
     "slide_type": "slide"
    }
   },
   "outputs": [],
   "source": [
    "def RY_ansatz(params):\n",
    "    \"\"\"\"\"\"\n",
    "    for i in range(n_layers_ansatz):\n",
    "        for j in range(n_qubits):\n",
    "            qml.RY(params[(i * n_qubits) + j], wires=j)\n",
    "        entangle_layer()\n",
    "        \n",
    "        \n",
    "def RYRZ_ansatz(params):\n",
    "    \"\"\"\"\"\"\n",
    "    for i in range(n_layers_ansatz):\n",
    "        for j in range(n_qubits):\n",
    "            qml.RY(params[(i * 2 * n_qubits) + j], wires=j)\n",
    "            qml.RZ(params[((i * 2 + 1) * n_qubits) + j], wires=j)\n",
    "        entangle_layer()\n",
    "        \n",
    "        \n",
    "def Rot_ansatz(params):\n",
    "    \"\"\"\"\"\"\n",
    "    for i in range(n_layers_ansatz):\n",
    "        for j in range(n_qubits):\n",
    "            qml.Rot(params[((i * 3) * n_qubits) + j], params[((i * 3 + 1) * n_qubits) + j], params[((i * 3 + 2) * n_qubits) + j], wires=j)\n",
    "        entangle_layer()"
   ]
  },
  {
   "cell_type": "code",
   "execution_count": 281,
   "id": "74efe1d7",
   "metadata": {
    "slideshow": {
     "slide_type": "slide"
    }
   },
   "outputs": [],
   "source": [
    "n_qubits = 5\n",
    "shots = 100\n",
    "dev = qml.device(\"lightning.qubit\",   wires=n_qubits, shots=shots)\n",
    "\n",
    "@qml.qnode(dev, diff_method=\"best\")\n",
    "def basic_RY(datapoint, params):\n",
    "    \"\"\" \"\"\"\n",
    "    basic_state_prep(datapoint)#Apply data encoding\n",
    "    RY_ansatz(params)#Apply Ansatz\n",
    "    return qml.probs(wires=[0])#Measure One Qubit\n",
    "    \n",
    "@qml.qnode(dev, diff_method=\"best\")\n",
    "def basic_RYRZ(datapoint, params):\n",
    "    \"\"\" \"\"\"\n",
    "    basic_state_prep(datapoint)#Apply data encoding\n",
    "    RYRZ_ansatz(params)\n",
    "    return qml.probs(wires=[0])#Measure One Qubit\n",
    "    \n",
    "@qml.qnode(dev, diff_method=\"best\")\n",
    "def basic_Rot(datapoint, params): \n",
    "    \"\"\" \"\"\"\n",
    "    basic_state_prep(datapoint)#Apply data encoding\n",
    "    Rot_ansatz(params)#Apply Ansatz\n",
    "    return qml.probs(wires=[0])#Measure One Qubit"
   ]
  },
  {
   "cell_type": "code",
   "execution_count": 282,
   "id": "38882ce5",
   "metadata": {
    "slideshow": {
     "slide_type": "slide"
    }
   },
   "outputs": [],
   "source": [
    "@qml.qnode(dev, diff_method=\"best\")\n",
    "def reup_RY(datapoint, params):\n",
    "    \"\"\" \"\"\"\n",
    "    reup_state_prep(datapoint, params)#Apply data encoding\n",
    "    RY_ansatz(params)#Apply Ansatz\n",
    "    return qml.probs(wires=[0])#Measure One Qubit\n",
    "    \n",
    "@qml.qnode(dev, diff_method=\"best\")\n",
    "def reup_RYRZ(datapoint, params):\n",
    "    \"\"\" \"\"\"\n",
    "    reup_state_prep(datapoint, params)#Apply data encoding\n",
    "    RYRZ_ansatz(params)\n",
    "    return qml.probs(wires=[0])#Measure One Qubit\n",
    "    \n",
    "@qml.qnode(dev, diff_method=\"best\")\n",
    "def reup_Rot(datapoint, params): \n",
    "    \"\"\" \"\"\"\n",
    "    reup_state_prep(datapoint, params)#Apply data encoding\n",
    "    Rot_ansatz(params)#Apply Ansatz\n",
    "    return qml.probs(wires=[0])#Measure One Qubit"
   ]
  },
  {
   "cell_type": "code",
   "execution_count": 290,
   "id": "65a95243",
   "metadata": {
    "slideshow": {
     "slide_type": "slide"
    }
   },
   "outputs": [],
   "source": [
    "@qml.qnode(dev, diff_method=\"best\")\n",
    "def fourier_RY(datapoint, params): \n",
    "    \"\"\" \"\"\"\n",
    "    fourier_state_prep(datapoint)#Apply data encoding\n",
    "    RY_ansatz(params)#Apply Ansatz\n",
    "    return qml.probs(wires=[0])#Measure One Qubit\n",
    "\n",
    "@qml.qnode(dev, diff_method=\"best\")\n",
    "def fourier_RYRZ(datapoint, params): \n",
    "    \"\"\" \"\"\"\n",
    "    fourier_state_prep(datapoint)#Apply data encoding\n",
    "    RYRZ_ansatz(params)#Apply Ansatz\n",
    "    return qml.probs(wires=[0])#Measure One Qubit\n",
    "\n",
    "@qml.qnode(dev, diff_method=\"best\")\n",
    "def fourier_Rot(datapoint, params): \n",
    "    \"\"\" \"\"\"\n",
    "    fourier_state_prep(datapoint)#Apply data encoding\n",
    "    Rot_ansatz(params)#Apply Ansatz\n",
    "    return qml.probs(wires=[0])#Measure One Qubit"
   ]
  },
  {
   "cell_type": "code",
   "execution_count": 291,
   "id": "2d6fb61b",
   "metadata": {
    "slideshow": {
     "slide_type": "slide"
    }
   },
   "outputs": [
    {
     "data": {
      "text/plain": [
       "7"
      ]
     },
     "execution_count": 291,
     "metadata": {},
     "output_type": "execute_result"
    }
   ],
   "source": [
    "class CircuitConfig:\n",
    "    def __init__(self, circuit, num_weights):\n",
    "        self.circuit = circuit\n",
    "        self.num_weights= num_weights\n",
    "        \n",
    "    def get_num_weights(self, n_qubits, n_layers_encoding, n_layers_ansatz):\n",
    "        return self.num_weights(n_qubits, n_layers_encoding, n_layers_ansatz)\n",
    "    \n",
    "circuits = {\"basic_RY\": CircuitConfig(basic_RY, lambda q, e, a:   (e * 0) + (a * q * 1)),\n",
    "            \"basic_RYRZ\": CircuitConfig(basic_RYRZ, lambda q, e, a: (e * 0) + (a * q * 2)),\n",
    "            \"basic_Rot\": CircuitConfig(basic_Rot, lambda q, e, a: (e * 0) + (a * q * 3)),\n",
    "            #5 for five features\n",
    "            \"reup_RY\": CircuitConfig(reup_RY, lambda q, e, a: (e * 5) + (a * q * 1)),\n",
    "            \"reup_RYRZ\": CircuitConfig(reup_RYRZ, lambda q, e, a: (e * 5) + (a * q * 2)),\n",
    "            \"reup_Rot\": CircuitConfig(reup_Rot, lambda q, e, a: (e * 5) + (a * q * 3)),\n",
    "            \n",
    "            \"fourier_RY\": CircuitConfig(fourier_RY, lambda q, e, a: (e * 0) + (a * q * 1)),\n",
    "            \"fourier_RYRZ\": CircuitConfig(fourier_RYRZ, lambda q, e, a: (e * 0) + (a * q * 2)),\n",
    "            \"fourier_Rot\": CircuitConfig(fourier_Rot, lambda q, e, a: (e * 0) + (a * q * 3)),\n",
    "}\n",
    "\n",
    "circuits[\"reup_RYRZ\"].get_num_weights(n_qubits=1, n_layers_encoding=1, n_layers_ansatz=1)"
   ]
  },
  {
   "cell_type": "code",
   "execution_count": 285,
   "id": "c721f231",
   "metadata": {
    "slideshow": {
     "slide_type": "slide"
    }
   },
   "outputs": [],
   "source": [
    "def torch_adam_step(X, y):\n",
    "    torch_opt.zero_grad()#Reset Gradients\n",
    "    loss = vqc.cost(X, y)#Calculate Loss\n",
    "    loss.backward()#Loss Backprop\n",
    "    torch_opt.step()\n",
    "    return loss\n",
    "\n",
    "def penny_adam_step(X, y, cost, weights):\n",
    "    weights = penny_opt.step(cost, weights, X=X, Y=y)\n",
    "    loss = vqc.cost(X, y)"
   ]
  },
  {
   "cell_type": "code",
   "execution_count": 292,
   "id": "470d727d",
   "metadata": {
    "slideshow": {
     "slide_type": "slide"
    }
   },
   "outputs": [],
   "source": [
    "class VQC:\n",
    "    def __init__(self, circuit, num_weights, opt_type=\"torch\"):\n",
    "        self.circuit = circuit\n",
    "        self.opt_type = opt_type\n",
    "        \n",
    "        #Weight initialisation\n",
    "        if self.opt_type == \"torch\":\n",
    "            self.weights = torch.nn.Parameter(torch.empty(num_weights).uniform_(0+0.1, (2 * np.pi)-0.1), requires_grad=True)\n",
    "        else:\n",
    "            self.weights = qnp.array(np.random.uniform(0.1, 2 * np.pi - 0.1, size=num_weights), requires_grad=True)\n",
    "        print(self.weights)\n",
    "    \n",
    "    \n",
    "        #Optimiser Initialisation\n",
    "        if self.opt_type == \"torch\":\n",
    "            self.opt = torch.optim.Adam([self.weights], lr = 0.5)\n",
    "        else:\n",
    "            self.opt = AdamOptimizer(0.5)\n",
    "            \n",
    "    def cost(self, weights, X, Y):\n",
    "        \"\"\"\"\"\"\n",
    "        self.weights = weights\n",
    "        predictions = self.predict_proba(X)\n",
    "        y = Y\n",
    "        \n",
    "        if self.opt_type == \"torch\":\n",
    "            y = y.to(torch.float64)\n",
    "            loss_fn = nn.BCELoss()\n",
    "            loss = loss_fn(predictions, y)\n",
    "        else:\n",
    "            #Custom BCELoss\n",
    "            epsilon = 1e-8\n",
    "            predictions = qml.math.clip(predictions, epsilon, 1 - epsilon)\n",
    "            loss = -qml.math.mean(\n",
    "                y * qml.math.log(predictions) + (1 - y) * qml.math.log(1 - predictions)\n",
    "            )\n",
    "        return loss\n",
    "    \n",
    "    \n",
    "    def predict(self, X):\n",
    "        if self.opt_type == \"torch\":\n",
    "            predictions = torch.stack([self.circuit(x, self.weights)[1] for x in X])\n",
    "            temperature = 5.0  # Use same temperature as in training\n",
    "            predictions = torch.sigmoid(temperature * (predictions - 0.5))\n",
    "            return (predictions > 0.5).float()\n",
    "        else:\n",
    "            predictions = qnp.array([self.circuit(x, self.weights)[1] for x in X])\n",
    "            temperature = 5.0  # Use same temperature as in training\n",
    "            predictions = 0.5 * (qnp.tanh(temperature * (predictions - 0.5) / 2) + 1)\n",
    "            return qml.math.cast(predictions > 0.5, dtype=qml.math.dtype(\"float64\"))\n",
    "\n",
    "    \n",
    "    def predict_proba(self, X):\n",
    "        if self.opt_type == \"torch\":\n",
    "            predictions = torch.stack([self.circuit(x, self.weights)[1] for x in X])\n",
    "        else:\n",
    "            predictions = qnp.array([self.circuit(x, self.weights)[1] for x in X])\n",
    "\n",
    "        temperature = 5.0  # Adjust this value to control separation\n",
    "        predictions = 0.5 * (qml.math.tanh(temperature * (predictions - 0.5) / 2) + 1)\n",
    "        return predictions\n",
    "    \n",
    "    \n",
    "    def epoch_plot(self, epochs, losses):\n",
    "        plt.clf()\n",
    "        plt.plot(epochs, losses, label=\"Training Loss\", marker=\"o\", linestyle=\"-\")\n",
    "        plt.xlabel(\"Epoch\")\n",
    "        plt.ylabel(\"Loss\")\n",
    "        plt.title(\"Live Training Loss\")\n",
    "        plt.legend()\n",
    "        plt.show()\n",
    "    \n",
    "    #Return Compute Time\n",
    "    def train(self, X, y, num_epochs, batch_size):\n",
    "        epochs = []#For Plot\n",
    "        losses = []\n",
    "        \n",
    "        #Draw an example of the circuit\n",
    "        print(\"Circuit Example: \")\n",
    "        fig, ax = qml.draw_mpl(self.circuit, decimals=3)(X_train[0], self.weights)\n",
    "        plt.show()\n",
    "        \n",
    "        \n",
    "        #Training\n",
    "        start_time = time.time()\n",
    "        for epoch in range(num_epochs):  \n",
    "            batch_index = np.random.choice(len(X), size=batch_size, replace=False)\n",
    "            X_batch = X[batch_index]\n",
    "            y_batch = y[batch_index]\n",
    "            \n",
    "            if self.opt_type == \"torch\":\n",
    "                self.opt.zero_grad()#Reset Gradients\n",
    "                loss = self.cost(self.weights, X_batch, y_batch)#Calculate Loss\n",
    "                loss.backward()#Loss Backprop\n",
    "                self.opt.step()\n",
    "                curr_loss = loss.item()\n",
    "            else:\n",
    "                self.weights = self.opt.step(vqc.cost, self.weights, X=X_batch, Y=y_batch)\n",
    "                curr_loss = self.cost(self.weights, X_batch, y_batch)\n",
    "                \n",
    "                \n",
    "            #print(self.weights)\n",
    "            if epoch % 10 == 0:\n",
    "                print(f\"Epoch {epoch + 1}: Loss = {curr_loss:.2f}\")\n",
    "                \n",
    "                \n",
    "            epochs.append(epoch)#For plot\n",
    "            losses.append(curr_loss)#For Plot\n",
    "        end_time = time.time()\n",
    "        print(f\"Training Took: {end_time - start_time:.1f} Seconds\")\n",
    "\n",
    "        self.epoch_plot(epochs, losses)\n",
    "        \n",
    "        return end_time - start_time\n",
    "            \n",
    "    def test(self, X_train, X_test, y_train, y_test):\n",
    "        if self.opt_type == \"torch\":\n",
    "            #Predictions\n",
    "            y_train_pred = self.predict(X_train).detach().numpy()\n",
    "            y_train_pred_proba = self.predict_proba(X_train).detach().numpy()\n",
    "\n",
    "            y_test_pred = self.predict(X_test).detach().numpy()\n",
    "            y_test_pred_proba = self.predict_proba(X_test).detach().numpy()\n",
    "        else:\n",
    "            y_train_pred = self.predict(X_train).numpy()\n",
    "            y_train_pred_proba = self.predict_proba(X_train).numpy()\n",
    "\n",
    "            y_test_pred = self.predict(X_test).numpy()\n",
    "            y_test_pred_proba = self.predict_proba(X_test).numpy()\n",
    "\n",
    "        return y_train_pred, y_train_pred_proba, y_test_pred, y_test_pred_proba"
   ]
  },
  {
   "cell_type": "code",
   "execution_count": null,
   "id": "a574650b",
   "metadata": {},
   "outputs": [
    {
     "data": {
      "text/plain": [
       "{'n_qubits': 2,\n",
       " 'n_layers_encoding': 2,\n",
       " 'n_layers_ansatz': 1,\n",
       " 'shots': 100,\n",
       " 'n_runs': 3,\n",
       " 'batch_size': 40,\n",
       " 'num_epochs': 200,\n",
       " 'circuit': 'fourier_RYRZ',\n",
       " 'opt_type': 'torch'}"
      ]
     },
     "metadata": {},
     "output_type": "display_data"
    },
    {
     "name": "stdout",
     "output_type": "stream",
     "text": [
      "Run 1/3: \n",
      "Parameter containing:\n",
      "tensor([1.2960, 1.1271, 1.8227, 0.7059], requires_grad=True)\n",
      "Circuit Example: \n"
     ]
    },
    {
     "data": {
      "image/png": "[encoded data removed]",
      "text/plain": [
       "<Figure size 1300x300 with 1 Axes>"
      ]
     },
     "metadata": {},
     "output_type": "display_data"
    },
    {
     "name": "stdout",
     "output_type": "stream",
     "text": [
      "Epoch 1: Loss = 0.90\n",
      "Epoch 11: Loss = 0.50\n",
      "Epoch 21: Loss = 0.69\n",
      "Epoch 31: Loss = 0.51\n",
      "Epoch 41: Loss = 0.49\n",
      "Epoch 51: Loss = 0.59\n",
      "Epoch 61: Loss = 0.59\n",
      "Epoch 71: Loss = 0.52\n",
      "Epoch 81: Loss = 0.48\n",
      "Epoch 91: Loss = 0.51\n",
      "Epoch 101: Loss = 0.51\n",
      "Epoch 111: Loss = 0.53\n",
      "Epoch 121: Loss = 0.52\n"
     ]
    }
   ],
   "source": [
    "n_qubits = 2\n",
    "n_layers_encoding = 2\n",
    "n_layers_ansatz = 1\n",
    "shots = shots\n",
    "n_runs = 3\n",
    "num_epochs = 200\n",
    "batch_size = 40#int(918*.7)\n",
    "circuit = circuits[\"fourier_RYRZ\"].circuit\n",
    "num_weights = circuits[\"fourier_RYRZ\"].get_num_weights(n_qubits=n_qubits, n_layers_encoding=n_layers_encoding, n_layers_ansatz=n_layers_ansatz)\n",
    "opt_type = \"torch\"\n",
    "\n",
    "Metrics = EvalMetrics()\n",
    "Metrics.set_pickle_info(n_qubits, n_layers_encoding, n_layers_ansatz, shots, n_runs, batch_size, num_epochs, circuit, opt_type)\n",
    "display(Metrics.pickle_info)\n",
    "\n",
    "for i in range(n_runs):\n",
    "    print(f\"Run {i+1}/{n_runs}: \")\n",
    "    \n",
    "    #X and y data\n",
    "    [\"ST_Slope\", \"ChestPainType\", \"\"]\n",
    "    X = data_normalise(row=dataset[[\"ST_Slope\", \"ChestPainType\"]].to_numpy(), opt_type=opt_type)\n",
    "    if opt_type == \"torch\":\n",
    "        y = torch.tensor(dataset[\"HeartDisease\"].to_numpy())\n",
    "    else:\n",
    "        y = qnp.array(dataset[\"HeartDisease\"].to_numpy())\n",
    "    #Split Dataset\n",
    "    X_train, X_test, y_train, y_test = sklearn.model_selection.train_test_split(X, y, train_size = 0.7, stratify = y)\n",
    "    \n",
    "    \n",
    "    #VQC Initialisation\n",
    "    vqc = VQC(circuit, num_weights, opt_type=opt_type)\n",
    "    #Training\n",
    "    compute_time = vqc.train(X_train, y_train, num_epochs, batch_size)\n",
    "    \n",
    "    #Testing and storing data\n",
    "    y_train_pred, y_train_pred_proba, y_test_pred, y_test_pred_proba = vqc.test(X_train, X_test, y_train, y_test)\n",
    "\n",
    "    Metrics.add_predictions(y_train.numpy(), y_train_pred, y_train_pred_proba, y_test.numpy(), y_test_pred, y_test_pred_proba, compute_time)\n",
    "Metrics.print_metrics()\n",
    "    \n",
    "with open(f'{Metrics.pickle_info[\"circuit\"]}_{Metrics.pickle_info[\"n_qubits\"]}Qubit_{Metrics.pickle_info[\"n_layers_encoding\"]}Encode_{Metrics.pickle_info[\"n_layers_ansatz\"]}Ansatz_{Metrics.pickle_info[\"opt_type\"]}OptType.pkl', 'wb') as f:  # open a text file\n",
    "    pickle.dump(Metrics, f) # serialize the list\n",
    "f.close()"
   ]
  },
  {
   "cell_type": "code",
   "execution_count": null,
   "id": "0e3d1b55",
   "metadata": {},
   "outputs": [],
   "source": [
    "y_train_pred, y_train_pred_proba, y_test_pred, y_test_pred_proba = vqc.test(X_train, X_test, y_train, y_test)\n",
    "\n",
    "Metrics.add_predictions(y_train.numpy(), y_train_pred, y_train_pred_proba, y_test.numpy(), y_test_pred, y_test_pred_proba, compute_time)\n",
    "Metrics.print_metrics()"
   ]
  },
  {
   "cell_type": "code",
   "execution_count": null,
   "id": "304c5868",
   "metadata": {},
   "outputs": [],
   "source": []
  },
  {
   "cell_type": "code",
   "execution_count": null,
   "id": "c404117f",
   "metadata": {},
   "outputs": [],
   "source": []
  },
  {
   "cell_type": "code",
   "execution_count": null,
   "id": "d326418c",
   "metadata": {},
   "outputs": [],
   "source": []
  },
  {
   "cell_type": "code",
   "execution_count": null,
   "id": "886bcf21",
   "metadata": {},
   "outputs": [],
   "source": []
  },
  {
   "cell_type": "code",
   "execution_count": null,
   "id": "f3662c85",
   "metadata": {},
   "outputs": [],
   "source": [
    "for i in iter(circuits):\n",
    "    print(i)\n",
    "    print(circuits[i].get_num_weights(1,1,1))"
   ]
  },
  {
   "cell_type": "code",
   "execution_count": null,
   "id": "5c2cf287",
   "metadata": {},
   "outputs": [],
   "source": []
  },
  {
   "cell_type": "code",
   "execution_count": null,
   "id": "1a62f9a4",
   "metadata": {},
   "outputs": [],
   "source": []
  },
  {
   "cell_type": "code",
   "execution_count": null,
   "id": "4b6aa4c6",
   "metadata": {},
   "outputs": [],
   "source": []
  },
  {
   "cell_type": "code",
   "execution_count": null,
   "id": "9dff43bd",
   "metadata": {},
   "outputs": [],
   "source": []
  },
  {
   "cell_type": "markdown",
   "id": "975c88b9",
   "metadata": {},
   "source": [
    "## Results Analysis"
   ]
  },
  {
   "cell_type": "code",
   "execution_count": null,
   "id": "b0c44d08",
   "metadata": {},
   "outputs": [],
   "source": [
    "# RY: (n_layers_ansatz * n_qubits * 1)\n",
    "# RYRYZ: (n_layers_ansatz * n_qubits * 2)\n",
    "# Rot: (n_layers_ansatz * n_qubits * 3)"
   ]
  },
  {
   "cell_type": "code",
   "execution_count": 108,
   "id": "571f02ce",
   "metadata": {},
   "outputs": [],
   "source": [
    "metrics_mean = {}\n",
    "metrics_std = {}\n",
    "for key, values in AllMetrics[0].metrics.items():\n",
    "    metrics_mean[key] = np.mean(values)\n",
    "    metrics_std[key] = np.std(values)"
   ]
  },
  {
   "cell_type": "code",
   "execution_count": 116,
   "id": "88e1180d",
   "metadata": {},
   "outputs": [
    {
     "data": {
      "text/html": [
       "<div>\n",
       "<style scoped>\n",
       "    .dataframe tbody tr th:only-of-type {\n",
       "        vertical-align: middle;\n",
       "    }\n",
       "\n",
       "    .dataframe tbody tr th {\n",
       "        vertical-align: top;\n",
       "    }\n",
       "\n",
       "    .dataframe thead th {\n",
       "        text-align: right;\n",
       "    }\n",
       "</style>\n",
       "<table border=\"1\" class=\"dataframe\">\n",
       "  <thead>\n",
       "    <tr style=\"text-align: right;\">\n",
       "      <th></th>\n",
       "      <th>n_qubits</th>\n",
       "      <th>n_layers_encoding</th>\n",
       "      <th>n_layers_ansatz</th>\n",
       "      <th>shots</th>\n",
       "      <th>n_runs</th>\n",
       "      <th>batch_size</th>\n",
       "      <th>num_epochs</th>\n",
       "      <th>circuit</th>\n",
       "      <th>opt_type</th>\n",
       "      <th>train_accuracy_mean</th>\n",
       "      <th>...</th>\n",
       "      <th>test_f1_mean</th>\n",
       "      <th>test_f1_std</th>\n",
       "      <th>test_roc_auc_mean</th>\n",
       "      <th>test_roc_auc_std</th>\n",
       "      <th>test_pr_auc_mean</th>\n",
       "      <th>test_pr_auc_std</th>\n",
       "      <th>test_log_loss_mean</th>\n",
       "      <th>test_log_loss_std</th>\n",
       "      <th>compute_time_mean</th>\n",
       "      <th>compute_time_std</th>\n",
       "    </tr>\n",
       "  </thead>\n",
       "  <tbody>\n",
       "    <tr>\n",
       "      <th>0</th>\n",
       "      <td>2</td>\n",
       "      <td>1</td>\n",
       "      <td>1</td>\n",
       "      <td>100</td>\n",
       "      <td>3</td>\n",
       "      <td>40</td>\n",
       "      <td>200</td>\n",
       "      <td>basic_Rot</td>\n",
       "      <td>penny</td>\n",
       "      <td>0.519730</td>\n",
       "      <td>...</td>\n",
       "      <td>0.621232</td>\n",
       "      <td>0.124394</td>\n",
       "      <td>0.487929</td>\n",
       "      <td>0.050730</td>\n",
       "      <td>0.551660</td>\n",
       "      <td>0.039706</td>\n",
       "      <td>0.705061</td>\n",
       "      <td>0.015852</td>\n",
       "      <td>87.584313</td>\n",
       "      <td>0.621661</td>\n",
       "    </tr>\n",
       "    <tr>\n",
       "      <th>1</th>\n",
       "      <td>2</td>\n",
       "      <td>1</td>\n",
       "      <td>1</td>\n",
       "      <td>100</td>\n",
       "      <td>3</td>\n",
       "      <td>40</td>\n",
       "      <td>200</td>\n",
       "      <td>basic_Rot</td>\n",
       "      <td>torch</td>\n",
       "      <td>0.495846</td>\n",
       "      <td>...</td>\n",
       "      <td>0.452605</td>\n",
       "      <td>0.102594</td>\n",
       "      <td>0.529704</td>\n",
       "      <td>0.033914</td>\n",
       "      <td>0.586950</td>\n",
       "      <td>0.033382</td>\n",
       "      <td>0.695783</td>\n",
       "      <td>0.009559</td>\n",
       "      <td>71.957858</td>\n",
       "      <td>0.151144</td>\n",
       "    </tr>\n",
       "    <tr>\n",
       "      <th>2</th>\n",
       "      <td>2</td>\n",
       "      <td>1</td>\n",
       "      <td>2</td>\n",
       "      <td>100</td>\n",
       "      <td>3</td>\n",
       "      <td>40</td>\n",
       "      <td>200</td>\n",
       "      <td>basic_Rot</td>\n",
       "      <td>penny</td>\n",
       "      <td>0.551921</td>\n",
       "      <td>...</td>\n",
       "      <td>0.699107</td>\n",
       "      <td>0.021739</td>\n",
       "      <td>0.533078</td>\n",
       "      <td>0.008494</td>\n",
       "      <td>0.579076</td>\n",
       "      <td>0.017397</td>\n",
       "      <td>0.702449</td>\n",
       "      <td>0.014726</td>\n",
       "      <td>160.305980</td>\n",
       "      <td>1.303786</td>\n",
       "    </tr>\n",
       "    <tr>\n",
       "      <th>3</th>\n",
       "      <td>2</td>\n",
       "      <td>1</td>\n",
       "      <td>2</td>\n",
       "      <td>100</td>\n",
       "      <td>3</td>\n",
       "      <td>40</td>\n",
       "      <td>200</td>\n",
       "      <td>basic_Rot</td>\n",
       "      <td>torch</td>\n",
       "      <td>0.534787</td>\n",
       "      <td>...</td>\n",
       "      <td>0.646291</td>\n",
       "      <td>0.088225</td>\n",
       "      <td>0.515189</td>\n",
       "      <td>0.026988</td>\n",
       "      <td>0.579619</td>\n",
       "      <td>0.014885</td>\n",
       "      <td>0.698875</td>\n",
       "      <td>0.007670</td>\n",
       "      <td>147.965565</td>\n",
       "      <td>1.094001</td>\n",
       "    </tr>\n",
       "    <tr>\n",
       "      <th>4</th>\n",
       "      <td>2</td>\n",
       "      <td>2</td>\n",
       "      <td>1</td>\n",
       "      <td>100</td>\n",
       "      <td>3</td>\n",
       "      <td>40</td>\n",
       "      <td>200</td>\n",
       "      <td>basic_Rot</td>\n",
       "      <td>penny</td>\n",
       "      <td>0.773624</td>\n",
       "      <td>...</td>\n",
       "      <td>0.792753</td>\n",
       "      <td>0.013102</td>\n",
       "      <td>0.790159</td>\n",
       "      <td>0.030153</td>\n",
       "      <td>0.802477</td>\n",
       "      <td>0.053075</td>\n",
       "      <td>0.525085</td>\n",
       "      <td>0.025677</td>\n",
       "      <td>119.116917</td>\n",
       "      <td>0.110542</td>\n",
       "    </tr>\n",
       "    <tr>\n",
       "      <th>...</th>\n",
       "      <td>...</td>\n",
       "      <td>...</td>\n",
       "      <td>...</td>\n",
       "      <td>...</td>\n",
       "      <td>...</td>\n",
       "      <td>...</td>\n",
       "      <td>...</td>\n",
       "      <td>...</td>\n",
       "      <td>...</td>\n",
       "      <td>...</td>\n",
       "      <td>...</td>\n",
       "      <td>...</td>\n",
       "      <td>...</td>\n",
       "      <td>...</td>\n",
       "      <td>...</td>\n",
       "      <td>...</td>\n",
       "      <td>...</td>\n",
       "      <td>...</td>\n",
       "      <td>...</td>\n",
       "      <td>...</td>\n",
       "      <td>...</td>\n",
       "    </tr>\n",
       "    <tr>\n",
       "      <th>219</th>\n",
       "      <td>5</td>\n",
       "      <td>1</td>\n",
       "      <td>2</td>\n",
       "      <td>100</td>\n",
       "      <td>3</td>\n",
       "      <td>40</td>\n",
       "      <td>200</td>\n",
       "      <td>reup_RY</td>\n",
       "      <td>torch</td>\n",
       "      <td>0.507788</td>\n",
       "      <td>...</td>\n",
       "      <td>0.527546</td>\n",
       "      <td>0.226724</td>\n",
       "      <td>0.454089</td>\n",
       "      <td>0.017348</td>\n",
       "      <td>0.520733</td>\n",
       "      <td>0.013675</td>\n",
       "      <td>0.765103</td>\n",
       "      <td>0.064556</td>\n",
       "      <td>233.381464</td>\n",
       "      <td>12.041710</td>\n",
       "    </tr>\n",
       "    <tr>\n",
       "      <th>220</th>\n",
       "      <td>5</td>\n",
       "      <td>2</td>\n",
       "      <td>1</td>\n",
       "      <td>100</td>\n",
       "      <td>3</td>\n",
       "      <td>40</td>\n",
       "      <td>200</td>\n",
       "      <td>reup_RY</td>\n",
       "      <td>penny</td>\n",
       "      <td>0.771028</td>\n",
       "      <td>...</td>\n",
       "      <td>0.799004</td>\n",
       "      <td>0.016594</td>\n",
       "      <td>0.793639</td>\n",
       "      <td>0.009038</td>\n",
       "      <td>0.803030</td>\n",
       "      <td>0.010160</td>\n",
       "      <td>0.524825</td>\n",
       "      <td>0.028298</td>\n",
       "      <td>502.911650</td>\n",
       "      <td>14.610967</td>\n",
       "    </tr>\n",
       "    <tr>\n",
       "      <th>221</th>\n",
       "      <td>5</td>\n",
       "      <td>2</td>\n",
       "      <td>1</td>\n",
       "      <td>100</td>\n",
       "      <td>3</td>\n",
       "      <td>40</td>\n",
       "      <td>200</td>\n",
       "      <td>reup_RY</td>\n",
       "      <td>torch</td>\n",
       "      <td>0.774663</td>\n",
       "      <td>...</td>\n",
       "      <td>0.776301</td>\n",
       "      <td>0.023611</td>\n",
       "      <td>0.770276</td>\n",
       "      <td>0.029411</td>\n",
       "      <td>0.769982</td>\n",
       "      <td>0.031329</td>\n",
       "      <td>0.572714</td>\n",
       "      <td>0.042602</td>\n",
       "      <td>388.772976</td>\n",
       "      <td>17.535065</td>\n",
       "    </tr>\n",
       "    <tr>\n",
       "      <th>222</th>\n",
       "      <td>5</td>\n",
       "      <td>2</td>\n",
       "      <td>2</td>\n",
       "      <td>100</td>\n",
       "      <td>3</td>\n",
       "      <td>40</td>\n",
       "      <td>200</td>\n",
       "      <td>reup_RY</td>\n",
       "      <td>penny</td>\n",
       "      <td>0.769470</td>\n",
       "      <td>...</td>\n",
       "      <td>0.800360</td>\n",
       "      <td>0.028693</td>\n",
       "      <td>0.838213</td>\n",
       "      <td>0.011991</td>\n",
       "      <td>0.835634</td>\n",
       "      <td>0.008193</td>\n",
       "      <td>0.485898</td>\n",
       "      <td>0.009862</td>\n",
       "      <td>699.468182</td>\n",
       "      <td>0.315582</td>\n",
       "    </tr>\n",
       "    <tr>\n",
       "      <th>223</th>\n",
       "      <td>5</td>\n",
       "      <td>2</td>\n",
       "      <td>2</td>\n",
       "      <td>100</td>\n",
       "      <td>3</td>\n",
       "      <td>40</td>\n",
       "      <td>200</td>\n",
       "      <td>reup_RY</td>\n",
       "      <td>torch</td>\n",
       "      <td>0.779855</td>\n",
       "      <td>...</td>\n",
       "      <td>0.803985</td>\n",
       "      <td>0.006663</td>\n",
       "      <td>0.843341</td>\n",
       "      <td>0.043444</td>\n",
       "      <td>0.843691</td>\n",
       "      <td>0.053667</td>\n",
       "      <td>0.476102</td>\n",
       "      <td>0.046746</td>\n",
       "      <td>466.045474</td>\n",
       "      <td>0.075745</td>\n",
       "    </tr>\n",
       "  </tbody>\n",
       "</table>\n",
       "<p>224 rows × 39 columns</p>\n",
       "</div>"
      ],
      "text/plain": [
       "     n_qubits  n_layers_encoding  n_layers_ansatz  shots  n_runs  batch_size  \\\n",
       "0           2                  1                1    100       3          40   \n",
       "1           2                  1                1    100       3          40   \n",
       "2           2                  1                2    100       3          40   \n",
       "3           2                  1                2    100       3          40   \n",
       "4           2                  2                1    100       3          40   \n",
       "..        ...                ...              ...    ...     ...         ...   \n",
       "219         5                  1                2    100       3          40   \n",
       "220         5                  2                1    100       3          40   \n",
       "221         5                  2                1    100       3          40   \n",
       "222         5                  2                2    100       3          40   \n",
       "223         5                  2                2    100       3          40   \n",
       "\n",
       "     num_epochs    circuit opt_type  train_accuracy_mean  ...  test_f1_mean  \\\n",
       "0           200  basic_Rot    penny             0.519730  ...      0.621232   \n",
       "1           200  basic_Rot    torch             0.495846  ...      0.452605   \n",
       "2           200  basic_Rot    penny             0.551921  ...      0.699107   \n",
       "3           200  basic_Rot    torch             0.534787  ...      0.646291   \n",
       "4           200  basic_Rot    penny             0.773624  ...      0.792753   \n",
       "..          ...        ...      ...                  ...  ...           ...   \n",
       "219         200    reup_RY    torch             0.507788  ...      0.527546   \n",
       "220         200    reup_RY    penny             0.771028  ...      0.799004   \n",
       "221         200    reup_RY    torch             0.774663  ...      0.776301   \n",
       "222         200    reup_RY    penny             0.769470  ...      0.800360   \n",
       "223         200    reup_RY    torch             0.779855  ...      0.803985   \n",
       "\n",
       "     test_f1_std  test_roc_auc_mean  test_roc_auc_std  test_pr_auc_mean  \\\n",
       "0       0.124394           0.487929          0.050730          0.551660   \n",
       "1       0.102594           0.529704          0.033914          0.586950   \n",
       "2       0.021739           0.533078          0.008494          0.579076   \n",
       "3       0.088225           0.515189          0.026988          0.579619   \n",
       "4       0.013102           0.790159          0.030153          0.802477   \n",
       "..           ...                ...               ...               ...   \n",
       "219     0.226724           0.454089          0.017348          0.520733   \n",
       "220     0.016594           0.793639          0.009038          0.803030   \n",
       "221     0.023611           0.770276          0.029411          0.769982   \n",
       "222     0.028693           0.838213          0.011991          0.835634   \n",
       "223     0.006663           0.843341          0.043444          0.843691   \n",
       "\n",
       "     test_pr_auc_std  test_log_loss_mean  test_log_loss_std  \\\n",
       "0           0.039706            0.705061           0.015852   \n",
       "1           0.033382            0.695783           0.009559   \n",
       "2           0.017397            0.702449           0.014726   \n",
       "3           0.014885            0.698875           0.007670   \n",
       "4           0.053075            0.525085           0.025677   \n",
       "..               ...                 ...                ...   \n",
       "219         0.013675            0.765103           0.064556   \n",
       "220         0.010160            0.524825           0.028298   \n",
       "221         0.031329            0.572714           0.042602   \n",
       "222         0.008193            0.485898           0.009862   \n",
       "223         0.053667            0.476102           0.046746   \n",
       "\n",
       "     compute_time_mean  compute_time_std  \n",
       "0            87.584313          0.621661  \n",
       "1            71.957858          0.151144  \n",
       "2           160.305980          1.303786  \n",
       "3           147.965565          1.094001  \n",
       "4           119.116917          0.110542  \n",
       "..                 ...               ...  \n",
       "219         233.381464         12.041710  \n",
       "220         502.911650         14.610967  \n",
       "221         388.772976         17.535065  \n",
       "222         699.468182          0.315582  \n",
       "223         466.045474          0.075745  \n",
       "\n",
       "[224 rows x 39 columns]"
      ]
     },
     "execution_count": 116,
     "metadata": {},
     "output_type": "execute_result"
    }
   ],
   "source": [
    "AllMetrics = []\n",
    "for file_path in pickle_files:\n",
    "    try:\n",
    "        with open(file_path, \"rb\") as f:\n",
    "            obj = pickle.load(f)\n",
    "            \n",
    "            row = {}\n",
    "            row.update(obj.pickle_info)#Add the pickle_info (hyper-parameters)\n",
    "\n",
    "            #Average all performance metrics\n",
    "            for k, v in obj.metrics.items():\n",
    "                if isinstance(v, list) and len(v) > 0:\n",
    "                    row[k + \"_mean\"] = np.mean(v)\n",
    "                    row[k + \"_std\"] = np.std(v)\n",
    "                else:\n",
    "                    row[k + \"_mean\"] = None\n",
    "                    row[k + \"_std\"] = None\n",
    "\n",
    "            AllMetrics.append(row)\n",
    "    except Exception as e:\n",
    "        print(f\"Failed to load {file_path}: {e}\")\n",
    "\n",
    "df = pd.DataFrame(records)\n",
    "df"
   ]
  },
  {
   "cell_type": "markdown",
   "id": "43ab79ee",
   "metadata": {},
   "source": [
    "#### Sort by high accuracy, high F1, low log loss, and low compute time"
   ]
  },
  {
   "cell_type": "code",
   "execution_count": 194,
   "id": "1373e3f7",
   "metadata": {},
   "outputs": [
    {
     "name": "stdout",
     "output_type": "stream",
     "text": [
      "     n_qubits  n_layers_encoding  n_layers_ansatz      circuit  \\\n",
      "24          2                  1                1  fourier_Rot   \n",
      "199         5                  2                2  fourier_Rot   \n",
      "25          2                  1                1  fourier_Rot   \n",
      "194         5                  1                2  fourier_Rot   \n",
      "80          3                  1                1  fourier_Rot   \n",
      "15          2                  2                2   basic_RYRZ   \n",
      "207         5                  2                2     reup_Rot   \n",
      "139         4                  1                2  fourier_Rot   \n",
      "192         5                  1                1  fourier_Rot   \n",
      "6           2                  2                2    basic_Rot   \n",
      "\n",
      "     test_accuracy_mean  test_f1_mean  test_log_loss_mean  compute_time_mean  \n",
      "24             0.842995      0.859702            0.483045         113.180736  \n",
      "199            0.834541      0.853133            0.481044         481.554675  \n",
      "25             0.824879      0.846990            0.487677          78.206967  \n",
      "194            0.822464      0.845418            0.451860         477.477602  \n",
      "80             0.821256      0.839031            0.485580         192.721757  \n",
      "15             0.815217      0.839363            0.423757         123.973448  \n",
      "207            0.812802      0.833446            0.460628         836.111278  \n",
      "139            0.811594      0.844437            0.444124         306.575286  \n",
      "192            0.810386      0.829226            0.510171         249.510104  \n",
      "6              0.809179      0.829358            0.431271         249.016254  \n"
     ]
    }
   ],
   "source": [
    "best = df.sort_values(by=[\"test_accuracy_mean\", \"test_f1_mean\", \"test_log_loss_mean\", \"compute_time_mean\"], ascending=[False, False, True, True])\n",
    "best = best[[\"n_qubits\", \"n_layers_encoding\", \"n_layers_ansatz\", \"circuit\", \"test_accuracy_mean\", \"test_f1_mean\", \"test_log_loss_mean\", \"compute_time_mean\"]]\n",
    "print(best.head(10))"
   ]
  },
  {
   "cell_type": "markdown",
   "id": "1da88d24",
   "metadata": {},
   "source": [
    "### Effect of Number of qubits vs test accuracy and compute time"
   ]
  },
  {
   "cell_type": "code",
   "execution_count": 258,
   "id": "c1295a15",
   "metadata": {},
   "outputs": [
    {
     "data": {
      "image/png": "[encoded data removed]",
      "text/plain": [
       "<Figure size 1400x800 with 2 Axes>"
      ]
     },
     "metadata": {},
     "output_type": "display_data"
    }
   ],
   "source": [
    "fig, axes = plt.subplots(1, 2, figsize=(14, 8))  # 2 rows, 2 columns\n",
    "\n",
    "sns.boxplot(x=\"n_qubits\", y=\"test_accuracy_mean\", data=df, ax=axes[0])\n",
    "axes[0].set_title(\"Number of Qubits vs Test Accuracy\")\n",
    "axes[0].set_xlabel(\"Number of Qubits\")\n",
    "axes[0].set_ylabel(\"Test Accuracy\")\n",
    "\n",
    "sns.boxplot(x=\"n_qubits\", y=\"compute_time_mean\", data=df, ax=axes[1])\n",
    "axes[1].set_title(\"Number of Qubits vs Compute Time\")\n",
    "axes[1].set_xlabel(\"Number of Qubits\")\n",
    "axes[1].set_ylabel(\"Compute Time (Mean, Seconds)\")\n",
    "\n",
    "plt.show()"
   ]
  },
  {
   "cell_type": "markdown",
   "id": "3990e5f8",
   "metadata": {},
   "source": [
    "### Scatter Plot of results with Test Accuracy vs Compute Time"
   ]
  },
  {
   "cell_type": "code",
   "execution_count": 257,
   "id": "8a2e3837",
   "metadata": {},
   "outputs": [
    {
     "data": {
      "image/png": "[encoded data removed]",
      "text/plain": [
       "<Figure size 1000x600 with 2 Axes>"
      ]
     },
     "metadata": {},
     "output_type": "display_data"
    }
   ],
   "source": [
    "fig, axes = plt.subplots(1, 2, figsize=(10, 6))  # 2 rows, 2 columns\n",
    "\n",
    "sns.scatterplot(x=\"compute_time_mean\", y=\"test_accuracy_mean\", data=df, color=\"skyblue\", edgecolor=\"black\", alpha=0.7, ax=axes[0])\n",
    "axes[0].set_title(\"Compute Time vs Accuracy\")\n",
    "axes[0].set_xlabel(\"Compute Time (Mean, s)\")\n",
    "axes[0].set_ylabel(\"Test Accuracy (Mean)\")\n",
    "\n",
    "sns.scatterplot(x=\"compute_time_mean\", y=\"test_f1_mean\", data=df, color=\"skyblue\", edgecolor=\"black\", alpha=0.7, ax=axes[1])\n",
    "axes[1].set_title(\"Compute Time vs F1\")\n",
    "axes[1].set_xlabel(\"Compute Time (Mean, s)\")\n",
    "axes[1].set_ylabel(\"Test F1 (Mean)\")\n",
    "\n",
    "#Set the min and max values of the plots\n",
    "axes[0].set_xlim(0, 1200)\n",
    "axes[0].set_ylim(0, 1)\n",
    "axes[1].set_xlim(0, 1200)\n",
    "axes[1].set_ylim(0, 1)\n",
    "\n",
    "plt.show()"
   ]
  },
  {
   "cell_type": "markdown",
   "id": "24f36711",
   "metadata": {},
   "source": [
    "### Statistical Significance between test accuracy and each of the circuit \"hyper-parameters\""
   ]
  },
  {
   "cell_type": "code",
   "execution_count": 256,
   "id": "73b55898",
   "metadata": {},
   "outputs": [
    {
     "data": {
      "image/png": "[encoded data removed]",
      "text/plain": [
       "<Figure size 1200x500 with 1 Axes>"
      ]
     },
     "metadata": {},
     "output_type": "display_data"
    }
   ],
   "source": [
    "from sklearn.feature_selection import f_regression\n",
    "\n",
    "#One-hot encode categorical features like circuit and opt_type\n",
    "categorical_cols = [\"circuit\", \"opt_type\"]\n",
    "continuous_cols = [\"n_qubits\", \"n_layers_encoding\", \"n_layers_ansatz\"]\n",
    "\n",
    "#Combine all features\n",
    "X_cat = pd.get_dummies(df[categorical_cols], drop_first=True)\n",
    "X_cont = df[continuous_cols]\n",
    "X = pd.concat([X_cont, X_cat], axis=1)\n",
    "#display(X)\n",
    "#Target variable (can be test_f1_mean, test_accuracy_mean, etc.)\n",
    "y = df[\"test_accuracy_mean\"]\n",
    "f_scores, p_values = f_regression(X, y)\n",
    "\n",
    "#Convert to -log10(p) for visualization\n",
    "neg_log_pvals = -np.log10(p_values)\n",
    "feature_names = X.columns\n",
    "\n",
    "plt.figure(figsize=(12, 5))\n",
    "plt.bar(feature_names, neg_log_pvals, color=\"skyblue\")\n",
    "plt.axhline(-np.log10(0.05), color=\"red\", linestyle=\"--\", label=\"p = 0.05 threshold\")\n",
    "plt.title(\"Statistical Significance of Hyperparameters (based on F1 Score)\")\n",
    "plt.ylabel(\"-log10(p-value)\")\n",
    "plt.xticks(rotation=45, ha=\"right\")\n",
    "plt.legend()\n",
    "plt.show()"
   ]
  },
  {
   "cell_type": "markdown",
   "id": "e924cf42",
   "metadata": {},
   "source": [
    "### Comparing the effect of difference in number of layers of encoding and ansatz against accuracy"
   ]
  },
  {
   "cell_type": "code",
   "execution_count": 259,
   "id": "3f4c64e2",
   "metadata": {},
   "outputs": [
    {
     "data": {
      "image/png": "[encoded data removed]",
      "text/plain": [
       "<Figure size 1400x1000 with 4 Axes>"
      ]
     },
     "metadata": {},
     "output_type": "display_data"
    }
   ],
   "source": [
    "fig, axes = plt.subplots(2, 2, figsize=(14, 10))  # 2 rows, 2 columns\n",
    "\n",
    "sns.boxplot(x=\"n_layers_encoding\", y=\"test_accuracy_mean\", data=df, ax=axes[0, 0])\n",
    "axes[0, 0].set_title(\"Test Accuracy vs Data Encoding Layers\")\n",
    "axes[0, 0].set_xlabel(\"Encoding Layers\")\n",
    "axes[0, 0].set_ylabel(\"Mean Test F1\")\n",
    "\n",
    "sns.boxplot(x=\"n_layers_ansatz\", y=\"test_accuracy_mean\", data=df, ax=axes[0, 1])\n",
    "axes[0, 1].set_title(\"Test Accuracy vs Ansatz Layers\")\n",
    "axes[0, 1].set_xlabel(\"Ansatz Layers\")\n",
    "axes[0, 1].set_ylabel(\"Mean Test F1\")\n",
    "\n",
    "# Plot 3: Compute Time vs Encoding Layers\n",
    "sns.boxplot(x=\"n_layers_encoding\", y=\"compute_time_mean\", data=df, ax=axes[1, 0])\n",
    "axes[1, 0].set_title(\"Compute Time vs Data Encoding Layers\")\n",
    "axes[1, 0].set_xlabel(\"Encoding Layers\")\n",
    "axes[1, 0].set_ylabel(\"Mean Compute Time (s)\")\n",
    "\n",
    "# Plot 4: Compute Time vs Ansatz Layers\n",
    "sns.boxplot(x=\"n_layers_ansatz\", y=\"compute_time_mean\", data=df, ax=axes[1, 1])\n",
    "axes[1, 1].set_title(\"Compute Time vs Ansatz Layers\")\n",
    "axes[1, 1].set_xlabel(\"Ansatz Layers\")\n",
    "axes[1, 1].set_ylabel(\"Mean Compute Time (s)\")\n",
    "\n",
    "plt.show()"
   ]
  },
  {
   "cell_type": "markdown",
   "id": "5150b173",
   "metadata": {},
   "source": [
    "### Circuit comparison with test accuracy and compute time"
   ]
  },
  {
   "cell_type": "code",
   "execution_count": 260,
   "id": "8a903028",
   "metadata": {},
   "outputs": [
    {
     "name": "stderr",
     "output_type": "stream",
     "text": [
      "C:\\Users\\Eric\\AppData\\Local\\Temp\\ipykernel_15532\\2966848468.py:2: FutureWarning: The default of observed=False is deprecated and will be changed to True in a future version of pandas. Pass observed=False to retain current behavior or observed=True to adopt the future default and silence this warning.\n",
      "  agg = df.groupby(\"circuit\")[[\"test_accuracy_mean\", \"compute_time_mean\"]].mean().reset_index()\n",
      "C:\\Users\\Eric\\AppData\\Local\\Temp\\ipykernel_15532\\2966848468.py:13: UserWarning: set_ticklabels() should only be used with a fixed number of ticks, i.e. after set_ticks() or using a FixedLocator.\n",
      "  ax1.set_xticklabels(agg[\"circuit\"])\n"
     ]
    },
    {
     "data": {
      "image/png": "[encoded data removed]",
      "text/plain": [
       "<Figure size 1200x600 with 2 Axes>"
      ]
     },
     "metadata": {},
     "output_type": "display_data"
    }
   ],
   "source": [
    "#Aggregate by circuit\n",
    "agg = df.groupby(\"circuit\")[[\"test_accuracy_mean\", \"compute_time_mean\"]].mean().reset_index()\n",
    "agg = agg.sort_values(\"test_accuracy_mean\", ascending=False)#Sort by accuracy\n",
    "\n",
    "\n",
    "fig, ax1 = plt.subplots(figsize=(12, 6))\n",
    "\n",
    "color1 = \"tab:blue\"\n",
    "ax1.set_xlabel(\"Circuit\")\n",
    "ax1.set_ylabel(\"Test Accuracy (Mean)\", color=color1)\n",
    "ax1.bar(agg[\"circuit\"], agg[\"test_accuracy_mean\"], color=color1, alpha=0.7, label=\"Accuracy\")\n",
    "ax1.tick_params(axis='y', labelcolor=color1)\n",
    "ax1.set_xticklabels(agg[\"circuit\"])\n",
    "\n",
    "#Compute time axis\n",
    "ax2 = ax1.twinx()\n",
    "color2 = \"tab:red\"\n",
    "ax2.set_ylabel(\"Compute Time (Mean, Seconds)\", color=color2)\n",
    "ax2.plot(agg[\"circuit\"], agg[\"compute_time_mean\"], color=color2, marker=\"o\", label=\"Compute Time\")\n",
    "ax2.tick_params(axis='y', labelcolor=color2)\n",
    "\n",
    "\n",
    "plt.title(\"Circuit Comparison: Accuracy vs Compute Time\")\n",
    "plt.show()"
   ]
  },
  {
   "cell_type": "markdown",
   "id": "f85806f5",
   "metadata": {},
   "source": [
    "### Investigating whether it was worth adding pennylane optimiser functionality and incresing grid search from 112 to 224"
   ]
  },
  {
   "cell_type": "code",
   "execution_count": 276,
   "id": "c374d430",
   "metadata": {},
   "outputs": [
    {
     "data": {
      "image/png": "[encoded data removed]",
      "text/plain": [
       "<Figure size 1000x600 with 2 Axes>"
      ]
     },
     "metadata": {},
     "output_type": "display_data"
    }
   ],
   "source": [
    "fig, axes = plt.subplots(1, 2, figsize=(10, 6))  # 2 rows, 2 columns\n",
    "\n",
    "sns.boxplot(x=\"opt_type\", y=\"test_accuracy_mean\", data=df, ax=axes[0])\n",
    "axes[0].set_title(\"Optimizer Type vs Test Accuracy\")\n",
    "axes[0].set_xlabel(\"Optimiser Type\")\n",
    "axes[0].set_ylabel(\"Test Accuracy (Mean)\")\n",
    "\n",
    "sns.boxplot(x=\"opt_type\", y=\"compute_time_mean\", data=df, ax=axes[1])\n",
    "axes[1].set_title(\"Optimizer Type vs Compute Time\")\n",
    "axes[1].set_xlabel(\"Optimiser Type\")\n",
    "axes[1].set_ylabel(\"Compute Time (Mean)\")\n",
    "\n",
    "plt.show()"
   ]
  },
  {
   "cell_type": "code",
   "execution_count": null,
   "id": "89bfa2fb",
   "metadata": {},
   "outputs": [],
   "source": []
  },
  {
   "cell_type": "code",
   "execution_count": 122,
   "id": "d23935ba",
   "metadata": {},
   "outputs": [
    {
     "data": {
      "image/png": "[encoded data removed]",
      "text/plain": [
       "<Figure size 640x480 with 1 Axes>"
      ]
     },
     "metadata": {},
     "output_type": "display_data"
    },
    {
     "data": {
      "image/png": "[encoded data removed]",
      "text/plain": [
       "<Figure size 640x480 with 1 Axes>"
      ]
     },
     "metadata": {},
     "output_type": "display_data"
    }
   ],
   "source": [
    "sns.boxplot(x=\"n_qubits\", y=\"test_accuracy_mean\", data=df)\n",
    "plt.title(\"Effect of Qubit Count on Test Accuracy\")\n",
    "plt.show()\n",
    "\n",
    "sns.boxplot(x=\"n_qubits\", y=\"compute_time_mean\", data=df)\n",
    "plt.title(\"Qubits vs Compute Time\")\n",
    "plt.show()"
   ]
  },
  {
   "cell_type": "markdown",
   "id": "ac88ab86",
   "metadata": {},
   "source": [
    "# Real Quantum Device"
   ]
  },
  {
   "cell_type": "code",
   "execution_count": null,
   "id": "7d8c8a47",
   "metadata": {},
   "outputs": [],
   "source": [
    "import os\n",
    "\n",
    "AllMatrics = []\n",
    "for q in range(1, 5, 1):\n",
    "    for e in range(1, 3, 1):\n",
    "        for a in range(1, 3, 1):\n",
    "            for t in range(2):\n",
    "                for idx, (key, value) in enumerate(circuits.items()):\n",
    "                    "
   ]
  },
  {
   "cell_type": "code",
   "execution_count": null,
   "id": "c34ad0a7",
   "metadata": {},
   "outputs": [],
   "source": [
    "for i in range(1, 4, 1):\n",
    "    with open(f'basic_RYRZ_2Qubit_1Encode_1Ansatz_torchOptType.pkl', 'rb') as f:\n",
    "        Metrics = pickle.load(f) # deserialize using load()\n",
    "    print(Metrics.pickle_info) # print student names\n",
    "    Metrics.print_metrics()"
   ]
  },
  {
   "cell_type": "code",
   "execution_count": null,
   "id": "199b0f59",
   "metadata": {},
   "outputs": [],
   "source": [
    "for i in range(1, 4, 1):\n",
    "    with open(f'basic_RYRZ_1_{i}.pkl', 'rb') as f:\n",
    "        Metrics = pickle.load(f) # deserialize using load()\n",
    "    print(Metrics.pickle_info) # print student names\n",
    "    Metrics.print_metrics()"
   ]
  },
  {
   "cell_type": "code",
   "execution_count": null,
   "id": "e5f6e7ae",
   "metadata": {},
   "outputs": [],
   "source": [
    "for i in range(1, 4, 1):\n",
    "    with open(f'basic_Rot_1_{i}.pkl', 'rb') as f:\n",
    "        Metrics = pickle.load(f) # deserialize using load()\n",
    "    print(Metrics.pickle_info) # print student names\n",
    "    Metrics.print_metrics()"
   ]
  },
  {
   "cell_type": "code",
   "execution_count": null,
   "id": "69b148f9",
   "metadata": {},
   "outputs": [],
   "source": []
  },
  {
   "cell_type": "code",
   "execution_count": null,
   "id": "1030225d",
   "metadata": {},
   "outputs": [],
   "source": []
  },
  {
   "cell_type": "code",
   "execution_count": null,
   "id": "6edd26d9",
   "metadata": {},
   "outputs": [],
   "source": []
  },
  {
   "cell_type": "code",
   "execution_count": null,
   "id": "8bce963a",
   "metadata": {},
   "outputs": [],
   "source": []
  },
  {
   "cell_type": "code",
   "execution_count": null,
   "id": "34a6e814",
   "metadata": {},
   "outputs": [],
   "source": []
  },
  {
   "cell_type": "code",
   "execution_count": null,
   "id": "97586eca",
   "metadata": {},
   "outputs": [],
   "source": []
  },
  {
   "cell_type": "code",
   "execution_count": 53,
   "id": "21fd3a3d",
   "metadata": {},
   "outputs": [
    {
     "name": "stdout",
     "output_type": "stream",
     "text": [
      "{'n_qubits': 2, 'n_layers_encoding': 1, 'n_layers_ansatz': 1, 'shots': 100, 'n_runs': 1, 'batch_size': 1, 'num_epochs': 5, 'circuit': 'basic_RYRZ', 'opt_type': 'torch'}\n",
      "\n",
      "Averaged Performance Metrics Over 1 Runs:\n",
      "Train Accuracy: 0.5296 ± 0.0000\t\t\t\t Test Accuracy: 0.5471 ± 0.0000\n",
      "Train Precision: 0.5464 ± 0.0000\t\t\t Test Precision: 0.5565 ± 0.0000\n",
      "Train Recall: 0.8789 ± 0.0000\t\t\t\t Test Recall: 0.9020 ± 0.0000\n",
      "Train F1-score: 0.6739 ± 0.0000\t\t\t\t Test F1-score: 0.6883 ± 0.0000\n",
      "Train ROC AUC: 0.5023 ± 0.0000\t\t\t\t Test ROC AUC: 0.4761 ± 0.0000\n",
      "Train Precision-Recall AUC: 0.5550 ± 0.0000\t\t Test Precision-Recall AUC: 0.5473 ± 0.0000\n",
      "Train Log Loss: 0.6949 ± 0.0000\t\t\t\t Test Log Loss: 0.7030 ± 0.0000\n",
      "Compute Time: 0.0430 ± 0.0000\n"
     ]
    },
    {
     "data": {
      "image/png": "[encoded data removed]",
      "text/plain": [
       "<Figure size 1200x400 with 4 Axes>"
      ]
     },
     "metadata": {},
     "output_type": "display_data"
    }
   ],
   "source": [
    "with open(f'basic_RYRZ_2Qubit_1Encode_1Ansatz_torchOptType.pkl', 'rb') as f:\n",
    "    Metrics = pickle.load(f) # deserialize using load()\n",
    "print(Metrics.pickle_info) # print student names\n",
    "Metrics.print_metrics()"
   ]
  },
  {
   "cell_type": "code",
   "execution_count": null,
   "id": "4400f736",
   "metadata": {},
   "outputs": [],
   "source": []
  },
  {
   "cell_type": "code",
   "execution_count": 171,
   "id": "5d23b29b",
   "metadata": {},
   "outputs": [
    {
     "data": {
      "text/plain": [
       "41.8"
      ]
     },
     "execution_count": 171,
     "metadata": {},
     "output_type": "execute_result"
    }
   ],
   "source": []
  },
  {
   "cell_type": "code",
   "execution_count": null,
   "id": "7a5c7ede",
   "metadata": {},
   "outputs": [],
   "source": []
  },
  {
   "cell_type": "code",
   "execution_count": null,
   "id": "22904a07",
   "metadata": {},
   "outputs": [],
   "source": []
  },
  {
   "cell_type": "code",
   "execution_count": null,
   "id": "34534f3e",
   "metadata": {},
   "outputs": [],
   "source": [
    "#Draw an example of the circuit\n",
    "fig, ax = qml.draw_mpl(circuit, decimals=3)(X_train[0], weights)\n",
    "plt.show()"
   ]
  },
  {
   "cell_type": "code",
   "execution_count": null,
   "id": "d166c958",
   "metadata": {},
   "outputs": [],
   "source": [
    "weights_final = torch_opt.param_groups[0]\n",
    "display(weights_final)\n",
    "predict_proba(X_train[0], circuit)"
   ]
  },
  {
   "cell_type": "code",
   "execution_count": null,
   "id": "a2ef7f0c",
   "metadata": {},
   "outputs": [],
   "source": [
    "weights_final = opt.param_groups[0]['params'][0]\n",
    "VQC(data[9], weights_final)"
   ]
  },
  {
   "cell_type": "code",
   "execution_count": null,
   "id": "c5a0bcc4",
   "metadata": {},
   "outputs": [],
   "source": [
    "opt.param_groups"
   ]
  },
  {
   "cell_type": "code",
   "execution_count": null,
   "id": "2a7279aa",
   "metadata": {},
   "outputs": [],
   "source": [
    "dev = qml.device(\"lightning.qubit\", shots=[(1, 10)], wires=2)\n",
    "\n",
    "@qml.qnode(dev, diff_method=\"parameter-shift\")\n",
    "def circuit(weights):\n",
    "    qml.RX(weights[0], wires=0)\n",
    "    qml.RY(weights[1], wires=1)\n",
    "    qml.CNOT(wires=[0,1])\n",
    "    return qml.expval(qml.PauliX(0))\n",
    "\n",
    "def cost(weights):\n",
    "    thing = qml.math.hstack(circuit(weights))\n",
    "    print((thing + 1)/2)\n",
    "    return (thing + 1)/2\n",
    "\n",
    "weights = qnp.array([0.1, 0.2], requires_grad=True)\n",
    "res = qml.jacobian(cost)(weights)\n",
    "display(res)\n",
    "print(qml.gradients.param_shift(circuit)(weights))\n",
    "\n",
    "penny_opt.step(cost, weights=weights)"
   ]
  },
  {
   "cell_type": "code",
   "execution_count": null,
   "id": "2bca0976",
   "metadata": {},
   "outputs": [],
   "source": [
    "dev = qml.device(\"lightning.qubit\", wires=1)\n",
    "@qml.qnode(dev, diff_method=\"parameter-shift\")\n",
    "def circuit(x):\n",
    "    qml.PauliX( wires=0)\n",
    "    qml.RY(x, wires=0)\n",
    "    return qml.expval(qml.PauliZ(0))\n",
    "circuit(0.1)    "
   ]
  },
  {
   "cell_type": "code",
   "execution_count": null,
   "id": "4ad0c5b8",
   "metadata": {},
   "outputs": [],
   "source": [
    "@qml.qnode(dev)\n",
    "def circuit():\n",
    "    qml.Hadamard(wires=0)\n",
    "    qml.CNOT(wires=[0, 1])\n",
    "    return qml.probs(wires=[0, 1])"
   ]
  }
 ],
 "metadata": {
  "celltoolbar": "Slideshow",
  "kernelspec": {
   "display_name": "Python 3 (ipykernel)",
   "language": "python",
   "name": "python3"
  },
  "language_info": {
   "codemirror_mode": {
    "name": "ipython",
    "version": 3
   },
   "file_extension": ".py",
   "mimetype": "text/x-python",
   "name": "python",
   "nbconvert_exporter": "python",
   "pygments_lexer": "ipython3",
   "version": "3.11.11"
  }
 },
 "nbformat": 4,
 "nbformat_minor": 5
}
